{
 "cells": [
  {
   "cell_type": "code",
   "execution_count": 27,
   "metadata": {
    "collapsed": true
   },
   "outputs": [],
   "source": [
    "import pandas as pd\n",
    "import matplotlib.pyplot as plt\n",
    "import math"
   ]
  },
  {
   "cell_type": "code",
   "execution_count": 2,
   "metadata": {
    "collapsed": true
   },
   "outputs": [],
   "source": [
    "data=pd.read_csv(\"Salary_data.csv\")"
   ]
  },
  {
   "cell_type": "code",
   "execution_count": 4,
   "metadata": {},
   "outputs": [
    {
     "data": {
      "text/html": [
       "<div>\n",
       "<style>\n",
       "    .dataframe thead tr:only-child th {\n",
       "        text-align: right;\n",
       "    }\n",
       "\n",
       "    .dataframe thead th {\n",
       "        text-align: left;\n",
       "    }\n",
       "\n",
       "    .dataframe tbody tr th {\n",
       "        vertical-align: top;\n",
       "    }\n",
       "</style>\n",
       "<table border=\"1\" class=\"dataframe\">\n",
       "  <thead>\n",
       "    <tr style=\"text-align: right;\">\n",
       "      <th></th>\n",
       "      <th>YearsExperience</th>\n",
       "      <th>Salary</th>\n",
       "    </tr>\n",
       "  </thead>\n",
       "  <tbody>\n",
       "    <tr>\n",
       "      <th>0</th>\n",
       "      <td>1.1</td>\n",
       "      <td>39343.0</td>\n",
       "    </tr>\n",
       "    <tr>\n",
       "      <th>1</th>\n",
       "      <td>1.3</td>\n",
       "      <td>46205.0</td>\n",
       "    </tr>\n",
       "    <tr>\n",
       "      <th>2</th>\n",
       "      <td>1.5</td>\n",
       "      <td>37731.0</td>\n",
       "    </tr>\n",
       "    <tr>\n",
       "      <th>3</th>\n",
       "      <td>2.0</td>\n",
       "      <td>43525.0</td>\n",
       "    </tr>\n",
       "    <tr>\n",
       "      <th>4</th>\n",
       "      <td>2.2</td>\n",
       "      <td>39891.0</td>\n",
       "    </tr>\n",
       "  </tbody>\n",
       "</table>\n",
       "</div>"
      ],
      "text/plain": [
       "   YearsExperience   Salary\n",
       "0              1.1  39343.0\n",
       "1              1.3  46205.0\n",
       "2              1.5  37731.0\n",
       "3              2.0  43525.0\n",
       "4              2.2  39891.0"
      ]
     },
     "execution_count": 4,
     "metadata": {},
     "output_type": "execute_result"
    }
   ],
   "source": [
    "data.head()"
   ]
  },
  {
   "cell_type": "code",
   "execution_count": 6,
   "metadata": {},
   "outputs": [
    {
     "data": {
      "text/plain": [
       "0      39343.0\n",
       "1      46205.0\n",
       "2      37731.0\n",
       "3      43525.0\n",
       "4      39891.0\n",
       "5      56642.0\n",
       "6      60150.0\n",
       "7      54445.0\n",
       "8      64445.0\n",
       "9      57189.0\n",
       "10     63218.0\n",
       "11     55794.0\n",
       "12     56957.0\n",
       "13     57081.0\n",
       "14     61111.0\n",
       "15     67938.0\n",
       "16     66029.0\n",
       "17     83088.0\n",
       "18     81363.0\n",
       "19     93940.0\n",
       "20     91738.0\n",
       "21     98273.0\n",
       "22    101302.0\n",
       "23    113812.0\n",
       "24    109431.0\n",
       "25    105582.0\n",
       "26    116969.0\n",
       "27    112635.0\n",
       "28    122391.0\n",
       "29    121872.0\n",
       "Name: Salary, dtype: float64"
      ]
     },
     "execution_count": 6,
     "metadata": {},
     "output_type": "execute_result"
    }
   ],
   "source": [
    "data['Salary']"
   ]
  },
  {
   "cell_type": "code",
   "execution_count": 7,
   "metadata": {},
   "outputs": [
    {
     "data": {
      "text/plain": [
       "[<matplotlib.lines.Line2D at 0x15f0aa5ba90>]"
      ]
     },
     "execution_count": 7,
     "metadata": {},
     "output_type": "execute_result"
    }
   ],
   "source": [
    "plt.plot(data['YearsExperience'],data['Salary'])"
   ]
  },
  {
   "cell_type": "code",
   "execution_count": 8,
   "metadata": {},
   "outputs": [
    {
     "data": {
      "image/png": "[encoded data removed]",
      "text/plain": [
       "<matplotlib.figure.Figure at 0x15f0da92278>"
      ]
     },
     "metadata": {},
     "output_type": "display_data"
    }
   ],
   "source": [
    "plt.show()"
   ]
  },
  {
   "cell_type": "code",
   "execution_count": 44,
   "metadata": {},
   "outputs": [
    {
     "name": "stdout",
     "output_type": "stream",
     "text": [
      "mean salary: 76003.0\n",
      "mean experience: 5.31333333333\n"
     ]
    }
   ],
   "source": [
    "mean_sal=sum(data['Salary'])/(data['Salary'].count())\n",
    "mean_exp=sum(data['YearsExperience'])/(data['YearsExperience'].count())\n",
    "print('mean salary: '+str(mean_sal))\n",
    "print('mean experience: '+str(mean_exp))"
   ]
  },
  {
   "cell_type": "code",
   "execution_count": 45,
   "metadata": {},
   "outputs": [
    {
     "name": "stdout",
     "output_type": "stream",
     "text": [
      "variance of salary : 751550960.414\n",
      "variance of experience : 8.0536091954\n",
      "standard deviation of salary : 27414.4297845823\n",
      "standard deviation of experience : 2.8378881576627184\n"
     ]
    }
   ],
   "source": [
    "summax,summay=0,0\n",
    "for row in data['Salary']:\n",
    "    #print(row)\n",
    "    a=row-mean_sal\n",
    "    a=a*a\n",
    "    summay=summay+a\n",
    "for row in data['YearsExperience']:\n",
    "    #print(row)\n",
    "    a=row-mean_exp\n",
    "    a=a*a\n",
    "    summax=summax+a\n",
    "var_y=summay/(data['Salary'].count()-1)\n",
    "var_x=summax/(data['YearsExperience'].count()-1)\n",
    "sd_x=math.sqrt(var_x)\n",
    "sd_y=math.sqrt(var_y)\n",
    "print('variance of salary : '+str(var_y))\n",
    "print('variance of experience : '+str(var_x))\n",
    "print('standard deviation of salary : '+str(sd_y))\n",
    "print('standard deviation of experience : '+str(sd_x))"
   ]
  },
  {
   "cell_type": "code",
   "execution_count": 35,
   "metadata": {},
   "outputs": [
    {
     "name": "stdout",
     "output_type": "stream",
     "text": [
      "39343.0\n"
     ]
    }
   ],
   "source": [
    "print(data['Salary'][0])"
   ]
  },
  {
   "cell_type": "code",
   "execution_count": 59,
   "metadata": {},
   "outputs": [
    {
     "name": "stdout",
     "output_type": "stream",
     "text": [
      "-0.0543664354609\n"
     ]
    }
   ],
   "source": [
    "#skip this step as this finds pearson's coefficient\n",
    "zxzy=0\n",
    "for i in range(0,data['Salary'].count()):\n",
    "    a=(data['Salary'][i]-mean_sal)/sd_y\n",
    "    b=(data['YearsExperience'][i]-mean_exp)/sd_x\n",
    "    zxzy+=(a*b)\n",
    "pear_r=zxzy/data['Salary'].count()-1\n",
    "print(pear_r)"
   ]
  },
  {
   "cell_type": "code",
   "execution_count": 62,
   "metadata": {},
   "outputs": [
    {
     "name": "stdout",
     "output_type": "stream",
     "text": [
      "76106.3034483\n"
     ]
    }
   ],
   "source": [
    "cov_xy=0\n",
    "for i in range(0,data['Salary'].count()):\n",
    "    a=data['Salary'][i]-mean_sal\n",
    "    b=data['YearsExperience'][i]-mean_exp\n",
    "    cov_xy+=(a*b)\n",
    "cov=cov_xy/(data['Salary'].count()-1)\n",
    "print(cov)"
   ]
  },
  {
   "cell_type": "code",
   "execution_count": 52,
   "metadata": {},
   "outputs": [
    {
     "name": "stdout",
     "output_type": "stream",
     "text": [
      "78268.3109399\n"
     ]
    }
   ],
   "source": [
    "#to predict using pearson's co-efficient skip \n",
    "b=pear_r*(sd_y/sd_x)\n",
    "a=mean_sal-(b*(mean_exp))\n",
    "c=a+(b*1)\n",
    "print(c)"
   ]
  },
  {
   "cell_type": "code",
   "execution_count": 107,
   "metadata": {},
   "outputs": [
    {
     "name": "stdout",
     "output_type": "stream",
     "text": [
      "25792.2001987 9449.96232146\n",
      "correlation between salary and experience: 0.978241618489\n",
      "60757.0607881\n"
     ]
    }
   ],
   "source": [
    "b=cov/var_x\n",
    "a=mean_sal-(b*mean_exp)\n",
    "cor_xy=cov/(sd_x*sd_y)\n",
    "print(a,b)\n",
    "print('correlation between salary and experience: '+str(cor_xy))\n",
    "print(a+(b*3.7)) #fitting the data in model"
   ]
  },
  {
   "cell_type": "code",
   "execution_count": 85,
   "metadata": {},
   "outputs": [],
   "source": [
    "def partial_difference_o0(o0,o1):\n",
    "    a=0\n",
    "    for i in range(0,data['Salary'].count()):\n",
    "        a+=o0+(o1*data['YearsExperience'][i])-data['Salary'][i]\n",
    "    return a/data['Salary'].count()"
   ]
  },
  {
   "cell_type": "code",
   "execution_count": 86,
   "metadata": {
    "collapsed": true
   },
   "outputs": [],
   "source": [
    "def partial_difference_o1(o0,o1):\n",
    "    a=0\n",
    "    for i in range(0,data['Salary'].count()):\n",
    "        a+=(o0+(o1*data['YearsExperience'][i])-data['Salary'][i])*data['YearsExperience'][i]\n",
    "    return a/data['Salary'].count()"
   ]
  },
  {
   "cell_type": "code",
   "execution_count": 109,
   "metadata": {},
   "outputs": [
    {
     "name": "stdout",
     "output_type": "stream",
     "text": [
      "25792.1530554 9449.96931732\n"
     ]
    }
   ],
   "source": [
    "cur_o0=0\n",
    "cur_o1=0\n",
    "prev_o0=0\n",
    "prev_o1=0\n",
    "learning_rate=0.01\n",
    "for i in range(0,10000):\n",
    "    if(i!=0 and abs(cur_o0-prev_o0)<0.0001):\n",
    "        #print('came',i)\n",
    "        break\n",
    "    a=partial_difference_o0(cur_o0,cur_o1)\n",
    "    b=partial_difference_o1(cur_o0,cur_o1)\n",
    "    prev_o0=cur_o0\n",
    "    prev_o1=cur_o1\n",
    "    cur_o0=cur_o0-(learning_rate*a)\n",
    "    cur_o1=cur_o1-(learning_rate*b)\n",
    "print(cur_o0,cur_o1)"
   ]
  },
  {
   "cell_type": "code",
   "execution_count": 108,
   "metadata": {},
   "outputs": [
    {
     "name": "stdout",
     "output_type": "stream",
     "text": [
      "60757.0395295\n"
     ]
    }
   ],
   "source": [
    "z=cur_o0+(cur_o1*3.7)\n",
    "print(z)"
   ]
  }
 ],
 "metadata": {
  "kernelspec": {
   "display_name": "Python 3",
   "language": "python",
   "name": "python3"
  },
  "language_info": {
   "codemirror_mode": {
    "name": "ipython",
    "version": 3
   },
   "file_extension": ".py",
   "mimetype": "text/x-python",
   "name": "python",
   "nbconvert_exporter": "python",
   "pygments_lexer": "ipython3",
   "version": "3.6.1"
  }
 },
 "nbformat": 4,
 "nbformat_minor": 2
}
