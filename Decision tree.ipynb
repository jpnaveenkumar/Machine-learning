{
 "cells": [
  {
   "cell_type": "code",
   "execution_count": 308,
   "metadata": {
    "collapsed": true
   },
   "outputs": [],
   "source": [
    "import pandas as pd\n",
    "import matplotlib.pyplot as plt\n",
    "import math\n",
    "import operator\n",
    "import sys\n",
    "from sklearn.cross_validation import train_test_split\n",
    "from sklearn.tree import DecisionTreeClassifier\n",
    "from sklearn.metrics import accuracy_score\n",
    "from sklearn import tree"
   ]
  },
  {
   "cell_type": "code",
   "execution_count": 309,
   "metadata": {
    "collapsed": true
   },
   "outputs": [],
   "source": [
    "data=pd.read_excel('tic_tack.xlsx')\n",
    "test=pd.read_excel('test.xlsx')"
   ]
  },
  {
   "cell_type": "code",
   "execution_count": 310,
   "metadata": {
    "collapsed": true
   },
   "outputs": [],
   "source": [
    "sys.setrecursionlimit(2000)"
   ]
  },
  {
   "cell_type": "code",
   "execution_count": 311,
   "metadata": {},
   "outputs": [
    {
     "data": {
      "text/html": [
       "<div>\n",
       "<style>\n",
       "    .dataframe thead tr:only-child th {\n",
       "        text-align: right;\n",
       "    }\n",
       "\n",
       "    .dataframe thead th {\n",
       "        text-align: left;\n",
       "    }\n",
       "\n",
       "    .dataframe tbody tr th {\n",
       "        vertical-align: top;\n",
       "    }\n",
       "</style>\n",
       "<table border=\"1\" class=\"dataframe\">\n",
       "  <thead>\n",
       "    <tr style=\"text-align: right;\">\n",
       "      <th></th>\n",
       "      <th>tls</th>\n",
       "      <th>tms</th>\n",
       "      <th>trs</th>\n",
       "      <th>mls</th>\n",
       "      <th>mms</th>\n",
       "      <th>mrs</th>\n",
       "      <th>bls</th>\n",
       "      <th>bms</th>\n",
       "      <th>brs</th>\n",
       "      <th>result</th>\n",
       "    </tr>\n",
       "  </thead>\n",
       "  <tbody>\n",
       "    <tr>\n",
       "      <th>0</th>\n",
       "      <td>x</td>\n",
       "      <td>x</td>\n",
       "      <td>x</td>\n",
       "      <td>x</td>\n",
       "      <td>o</td>\n",
       "      <td>o</td>\n",
       "      <td>x</td>\n",
       "      <td>o</td>\n",
       "      <td>o</td>\n",
       "      <td>positive</td>\n",
       "    </tr>\n",
       "    <tr>\n",
       "      <th>1</th>\n",
       "      <td>x</td>\n",
       "      <td>x</td>\n",
       "      <td>x</td>\n",
       "      <td>x</td>\n",
       "      <td>o</td>\n",
       "      <td>o</td>\n",
       "      <td>o</td>\n",
       "      <td>x</td>\n",
       "      <td>o</td>\n",
       "      <td>positive</td>\n",
       "    </tr>\n",
       "    <tr>\n",
       "      <th>2</th>\n",
       "      <td>x</td>\n",
       "      <td>x</td>\n",
       "      <td>x</td>\n",
       "      <td>x</td>\n",
       "      <td>o</td>\n",
       "      <td>o</td>\n",
       "      <td>o</td>\n",
       "      <td>o</td>\n",
       "      <td>x</td>\n",
       "      <td>positive</td>\n",
       "    </tr>\n",
       "    <tr>\n",
       "      <th>3</th>\n",
       "      <td>x</td>\n",
       "      <td>x</td>\n",
       "      <td>x</td>\n",
       "      <td>x</td>\n",
       "      <td>o</td>\n",
       "      <td>o</td>\n",
       "      <td>o</td>\n",
       "      <td>b</td>\n",
       "      <td>b</td>\n",
       "      <td>positive</td>\n",
       "    </tr>\n",
       "    <tr>\n",
       "      <th>4</th>\n",
       "      <td>x</td>\n",
       "      <td>x</td>\n",
       "      <td>x</td>\n",
       "      <td>x</td>\n",
       "      <td>o</td>\n",
       "      <td>o</td>\n",
       "      <td>b</td>\n",
       "      <td>o</td>\n",
       "      <td>b</td>\n",
       "      <td>positive</td>\n",
       "    </tr>\n",
       "  </tbody>\n",
       "</table>\n",
       "</div>"
      ],
      "text/plain": [
       "  tls tms trs mls mms mrs bls bms brs    result\n",
       "0   x   x   x   x   o   o   x   o   o  positive\n",
       "1   x   x   x   x   o   o   o   x   o  positive\n",
       "2   x   x   x   x   o   o   o   o   x  positive\n",
       "3   x   x   x   x   o   o   o   b   b  positive\n",
       "4   x   x   x   x   o   o   b   o   b  positive"
      ]
     },
     "execution_count": 311,
     "metadata": {},
     "output_type": "execute_result"
    }
   ],
   "source": [
    "data.head()"
   ]
  },
  {
   "cell_type": "code",
   "execution_count": 312,
   "metadata": {
    "collapsed": true
   },
   "outputs": [],
   "source": [
    "class tree:\n",
    "    attr=''\n",
    "    child={}"
   ]
  },
  {
   "cell_type": "code",
   "execution_count": 313,
   "metadata": {},
   "outputs": [
    {
     "name": "stdout",
     "output_type": "stream",
     "text": [
      "kumar\n",
      "don\n"
     ]
    }
   ],
   "source": [
    "ex1=tree()\n",
    "ex2=tree()\n",
    "ex3=tree()\n",
    "ex1.attr='naveen'\n",
    "ex2.attr='kumar'\n",
    "ex3.attr='don'\n",
    "ex1.child[0]=ex2\n",
    "ex1.child[1]=ex3\n",
    "print(ex1.child[0].attr)\n",
    "print(ex1.child[1].attr)"
   ]
  },
  {
   "cell_type": "code",
   "execution_count": null,
   "metadata": {
    "collapsed": true
   },
   "outputs": [],
   "source": []
  },
  {
   "cell_type": "code",
   "execution_count": 314,
   "metadata": {
    "collapsed": true
   },
   "outputs": [],
   "source": [
    "def attr_count_search(datas,attr_name,attr_value):\n",
    "    pos,neg=0,0\n",
    "    for i in range(0,datas[attr_name].count()):\n",
    "        if(datas.loc[i,attr_name]==attr_value and datas.loc[i,'result']=='positive'):\n",
    "            pos=pos+1\n",
    "        if(datas.loc[i,attr_name]==attr_value and datas.loc[i,'result']=='negative'):\n",
    "            neg=neg+1\n",
    "    #print(pos,neg)\n",
    "    return [pos,neg]\n",
    "def calc_entropy(pos,neg):\n",
    "    return ((-pos/(pos+neg))*math.log(pos/(pos+neg),2))+((-neg/(pos+neg))*math.log(neg/(pos+neg),2))\n",
    "def class_entropy(datas):\n",
    "    l1=list(datas['result'])\n",
    "    pos=l1.count('positive')\n",
    "    neg=l1.count('negative')\n",
    "    #print(pos,neg)\n",
    "    return calc_entropy(pos,neg)\n",
    "def attr_entropy(datas,attr_name):\n",
    "    l1=list(datas[attr_name])\n",
    "    uniq=set(l1)\n",
    "    attr_entr=0\n",
    "    for i in uniq:\n",
    "        val=attr_count_search(datas,attr_name,i)\n",
    "        pos,neg=val[0],val[1]\n",
    "        if(pos==0 or neg==0):\n",
    "            entr=0\n",
    "        else:\n",
    "            entr=calc_entropy(pos,neg)\n",
    "        attr_entr=attr_entr+(((pos+neg)/datas[attr_name].count())*entr)\n",
    "    return attr_entr\n",
    "def info_gain(datas):\n",
    "    l1=datas.columns\n",
    "    l2={}\n",
    "    target=class_entropy(datas)\n",
    "    #print(datas.columns)\n",
    "    for i in range(len(l1)-1):\n",
    "        #print(l1[i])\n",
    "        attr_entr=attr_entropy(datas,l1[i])\n",
    "        gain=target-attr_entr\n",
    "        l2[l1[i]]=gain\n",
    "    #print(l2)\n",
    "    return max(l2.items(), key=operator.itemgetter(1))[0]\n",
    "def getSubset(datas,attr,attr_value):\n",
    "    new_data,j=pd.DataFrame(columns=datas.columns),0\n",
    "    for i in range(0,datas['result'].count()):\n",
    "        if(datas.loc[i,attr]==attr_value):\n",
    "            row=datas[i:i+1]\n",
    "            new_data=new_data.append(row)\n",
    "            j=j+1\n",
    "    del new_data[attr]\n",
    "    return new_data\n",
    "def tree_split(datas):\n",
    "    high_gain=info_gain(datas)\n",
    "    uniq=set(list(datas[high_gain]))\n",
    "    print(\"info gain=\"+high_gain)\n",
    "    node=tree()\n",
    "    node.attr=high_gain\n",
    "    temp=datas[:]\n",
    "    del temp[high_gain]\n",
    "    print(temp.columns)\n",
    "    for i in uniq:\n",
    "        new_data=getSubset(datas,high_gain,i)\n",
    "        new_data=new_data.reset_index(drop=True)\n",
    "        if(len(set(new_data['result']))==1):\n",
    "            #print(i,set(new_data['result']))\n",
    "            node.child[i]=list(set(new_data['result']))[0]\n",
    "        else:\n",
    "            node.child[i]=tree_split(new_data)\n",
    "            #print(node.child[i])\n",
    "    return node\n",
    "#tree_split(data)"
   ]
  },
  {
   "cell_type": "code",
   "execution_count": 315,
   "metadata": {},
   "outputs": [
    {
     "name": "stdout",
     "output_type": "stream",
     "text": [
      "info gain=mms\n",
      "Index(['tls', 'tms', 'trs', 'mls', 'mrs', 'bls', 'bms', 'brs', 'result'], dtype='object')\n",
      "info gain=tls\n",
      "Index(['tms', 'trs', 'mls', 'mrs', 'bls', 'bms', 'brs', 'result'], dtype='object')\n",
      "info gain=brs\n",
      "Index(['tms', 'trs', 'mls', 'mrs', 'bls', 'bms', 'result'], dtype='object')\n",
      "info gain=tms\n",
      "Index(['trs', 'mls', 'mrs', 'bls', 'bms', 'result'], dtype='object')\n",
      "info gain=trs\n",
      "Index(['mls', 'mrs', 'bls', 'bms', 'result'], dtype='object')\n",
      "info gain=bms\n",
      "Index(['mls', 'mrs', 'bls', 'result'], dtype='object')\n",
      "info gain=bms\n",
      "Index(['mls', 'mrs', 'bls', 'result'], dtype='object')\n",
      "info gain=trs\n",
      "Index(['mls', 'mrs', 'bls', 'bms', 'result'], dtype='object')\n",
      "info gain=bls\n",
      "Index(['mls', 'mrs', 'bms', 'result'], dtype='object')\n",
      "info gain=bls\n",
      "Index(['trs', 'mls', 'mrs', 'bms', 'result'], dtype='object')\n",
      "info gain=bms\n",
      "Index(['trs', 'mls', 'mrs', 'result'], dtype='object')\n",
      "info gain=trs\n",
      "Index(['mls', 'mrs', 'result'], dtype='object')\n",
      "info gain=mrs\n",
      "Index(['trs', 'mls', 'bms', 'result'], dtype='object')\n",
      "info gain=bms\n",
      "Index(['trs', 'mls', 'mrs', 'result'], dtype='object')\n",
      "info gain=mls\n",
      "Index(['trs', 'mrs', 'result'], dtype='object')\n",
      "info gain=brs\n",
      "Index(['tms', 'trs', 'mls', 'mrs', 'bls', 'bms', 'result'], dtype='object')\n",
      "info gain=tms\n",
      "Index(['trs', 'mls', 'mrs', 'bls', 'bms', 'result'], dtype='object')\n",
      "info gain=bms\n",
      "Index(['trs', 'mls', 'mrs', 'bls', 'result'], dtype='object')\n",
      "info gain=bls\n",
      "Index(['trs', 'mls', 'mrs', 'result'], dtype='object')\n",
      "info gain=trs\n",
      "Index(['mls', 'mrs', 'result'], dtype='object')\n",
      "info gain=bms\n",
      "Index(['trs', 'mls', 'mrs', 'bls', 'result'], dtype='object')\n",
      "info gain=mls\n",
      "Index(['trs', 'mrs', 'bls', 'result'], dtype='object')\n",
      "info gain=mrs\n",
      "Index(['trs', 'bls', 'result'], dtype='object')\n",
      "info gain=bls\n",
      "Index(['trs', 'mls', 'mrs', 'result'], dtype='object')\n",
      "info gain=trs\n",
      "Index(['mls', 'mrs', 'result'], dtype='object')\n",
      "info gain=mls\n",
      "Index(['trs', 'mrs', 'bls', 'bms', 'result'], dtype='object')\n",
      "info gain=mrs\n",
      "Index(['trs', 'bls', 'bms', 'result'], dtype='object')\n",
      "info gain=trs\n",
      "Index(['bls', 'bms', 'result'], dtype='object')\n",
      "info gain=mrs\n",
      "Index(['trs', 'bls', 'bms', 'result'], dtype='object')\n",
      "info gain=trs\n",
      "Index(['bls', 'bms', 'result'], dtype='object')\n",
      "info gain=trs\n",
      "Index(['tms', 'mls', 'mrs', 'bls', 'bms', 'brs', 'result'], dtype='object')\n",
      "info gain=bls\n",
      "Index(['tms', 'mls', 'mrs', 'bms', 'brs', 'result'], dtype='object')\n",
      "info gain=mls\n",
      "Index(['tms', 'mrs', 'bms', 'brs', 'result'], dtype='object')\n",
      "info gain=tms\n",
      "Index(['mrs', 'bms', 'brs', 'result'], dtype='object')\n",
      "info gain=tms\n",
      "Index(['mrs', 'bms', 'brs', 'result'], dtype='object')\n",
      "info gain=mrs\n",
      "Index(['bms', 'brs', 'result'], dtype='object')\n",
      "info gain=mls\n",
      "Index(['tms', 'mrs', 'bls', 'bms', 'brs', 'result'], dtype='object')\n",
      "info gain=mrs\n",
      "Index(['tms', 'bls', 'bms', 'brs', 'result'], dtype='object')\n",
      "info gain=mrs\n",
      "Index(['tms', 'bls', 'bms', 'brs', 'result'], dtype='object')\n",
      "info gain=bls\n",
      "Index(['tms', 'mrs', 'bms', 'brs', 'result'], dtype='object')\n",
      "info gain=tms\n",
      "Index(['mls', 'mrs', 'bls', 'bms', 'brs', 'result'], dtype='object')\n",
      "info gain=bms\n",
      "Index(['mls', 'mrs', 'bls', 'brs', 'result'], dtype='object')\n",
      "info gain=mls\n",
      "Index(['mrs', 'bls', 'brs', 'result'], dtype='object')\n",
      "info gain=mrs\n",
      "Index(['bls', 'brs', 'result'], dtype='object')\n",
      "info gain=bls\n",
      "Index(['mls', 'mrs', 'brs', 'result'], dtype='object')\n",
      "info gain=mls\n",
      "Index(['mrs', 'brs', 'result'], dtype='object')\n",
      "info gain=mls\n",
      "Index(['mrs', 'brs', 'result'], dtype='object')\n",
      "info gain=bms\n",
      "Index(['mls', 'mrs', 'bls', 'brs', 'result'], dtype='object')\n",
      "info gain=mls\n",
      "Index(['mrs', 'bls', 'brs', 'result'], dtype='object')\n",
      "info gain=mrs\n",
      "Index(['bls', 'brs', 'result'], dtype='object')\n",
      "info gain=mrs\n",
      "Index(['bls', 'brs', 'result'], dtype='object')\n",
      "info gain=bls\n",
      "Index(['mls', 'mrs', 'brs', 'result'], dtype='object')\n",
      "info gain=mls\n",
      "Index(['mrs', 'brs', 'result'], dtype='object')\n",
      "info gain=tls\n",
      "Index(['tms', 'trs', 'mls', 'mrs', 'bls', 'bms', 'brs', 'result'], dtype='object')\n",
      "info gain=brs\n",
      "Index(['tms', 'trs', 'mls', 'mrs', 'bls', 'bms', 'result'], dtype='object')\n",
      "info gain=trs\n",
      "Index(['tms', 'mls', 'mrs', 'bls', 'bms', 'result'], dtype='object')\n",
      "info gain=tms\n",
      "Index(['mls', 'mrs', 'bls', 'bms', 'result'], dtype='object')\n",
      "info gain=mrs\n",
      "Index(['mls', 'bls', 'bms', 'result'], dtype='object')\n",
      "info gain=bls\n",
      "Index(['tms', 'mls', 'mrs', 'bms', 'result'], dtype='object')\n",
      "info gain=mrs\n",
      "Index(['tms', 'mls', 'bls', 'bms', 'result'], dtype='object')\n",
      "info gain=tms\n",
      "Index(['mls', 'bls', 'bms', 'result'], dtype='object')\n",
      "info gain=tms\n",
      "Index(['mls', 'bls', 'bms', 'result'], dtype='object')\n",
      "info gain=brs\n",
      "Index(['tms', 'trs', 'mls', 'mrs', 'bls', 'bms', 'result'], dtype='object')\n",
      "info gain=brs\n",
      "Index(['tms', 'trs', 'mls', 'mrs', 'bls', 'bms', 'result'], dtype='object')\n",
      "info gain=trs\n",
      "Index(['tms', 'mls', 'mrs', 'bls', 'bms', 'result'], dtype='object')\n",
      "info gain=mrs\n",
      "Index(['tms', 'mls', 'bls', 'bms', 'result'], dtype='object')\n",
      "info gain=tms\n",
      "Index(['mls', 'bls', 'bms', 'result'], dtype='object')\n",
      "info gain=bls\n",
      "Index(['tms', 'mls', 'mrs', 'bms', 'result'], dtype='object')\n",
      "info gain=tms\n",
      "Index(['mls', 'mrs', 'bls', 'bms', 'result'], dtype='object')\n",
      "info gain=mrs\n",
      "Index(['mls', 'bls', 'bms', 'result'], dtype='object')\n",
      "info gain=mrs\n",
      "Index(['mls', 'bls', 'bms', 'result'], dtype='object')\n",
      "info gain=tls\n",
      "Index(['tms', 'trs', 'mls', 'mrs', 'bls', 'bms', 'brs', 'result'], dtype='object')\n",
      "info gain=brs\n",
      "Index(['tms', 'trs', 'mls', 'mrs', 'bls', 'bms', 'result'], dtype='object')\n",
      "info gain=trs\n",
      "Index(['tms', 'mls', 'mrs', 'bls', 'bms', 'result'], dtype='object')\n",
      "info gain=tms\n",
      "Index(['mls', 'mrs', 'bls', 'bms', 'result'], dtype='object')\n",
      "info gain=mrs\n",
      "Index(['mls', 'bls', 'bms', 'result'], dtype='object')\n",
      "info gain=mrs\n",
      "Index(['mls', 'bls', 'bms', 'result'], dtype='object')\n",
      "info gain=bls\n",
      "Index(['tms', 'mls', 'mrs', 'bms', 'result'], dtype='object')\n",
      "info gain=mls\n",
      "Index(['tms', 'mrs', 'bms', 'result'], dtype='object')\n",
      "info gain=mrs\n",
      "Index(['tms', 'bms', 'result'], dtype='object')\n",
      "info gain=mrs\n",
      "Index(['tms', 'bms', 'result'], dtype='object')\n",
      "info gain=tms\n",
      "Index(['trs', 'mls', 'mrs', 'bls', 'bms', 'result'], dtype='object')\n",
      "info gain=trs\n",
      "Index(['mls', 'mrs', 'bls', 'bms', 'result'], dtype='object')\n",
      "info gain=bls\n",
      "Index(['mls', 'mrs', 'bms', 'result'], dtype='object')\n",
      "info gain=mls\n",
      "Index(['mrs', 'bms', 'result'], dtype='object')\n",
      "info gain=mls\n",
      "Index(['trs', 'mrs', 'bls', 'bms', 'result'], dtype='object')\n",
      "info gain=bls\n",
      "Index(['trs', 'mrs', 'bms', 'result'], dtype='object')\n",
      "info gain=bms\n",
      "Index(['trs', 'mls', 'mrs', 'bls', 'result'], dtype='object')\n",
      "info gain=mls\n",
      "Index(['trs', 'mrs', 'bls', 'result'], dtype='object')\n",
      "info gain=mrs\n",
      "Index(['trs', 'bls', 'result'], dtype='object')\n",
      "info gain=trs\n",
      "Index(['mls', 'mrs', 'bls', 'result'], dtype='object')\n",
      "info gain=mrs\n",
      "Index(['mls', 'bls', 'result'], dtype='object')\n",
      "info gain=trs\n",
      "Index(['tms', 'mls', 'mrs', 'bls', 'bms', 'result'], dtype='object')\n",
      "info gain=tms\n",
      "Index(['mls', 'mrs', 'bls', 'bms', 'result'], dtype='object')\n",
      "info gain=mls\n",
      "Index(['mrs', 'bls', 'bms', 'result'], dtype='object')\n",
      "info gain=mrs\n",
      "Index(['bls', 'bms', 'result'], dtype='object')\n",
      "info gain=bms\n",
      "Index(['mls', 'mrs', 'bls', 'result'], dtype='object')\n",
      "info gain=bls\n",
      "Index(['mls', 'mrs', 'result'], dtype='object')\n",
      "info gain=mls\n",
      "Index(['tms', 'mrs', 'bls', 'bms', 'result'], dtype='object')\n",
      "info gain=bls\n",
      "Index(['tms', 'mrs', 'bms', 'result'], dtype='object')\n",
      "info gain=bls\n",
      "Index(['tms', 'mls', 'mrs', 'bms', 'result'], dtype='object')\n",
      "info gain=mrs\n",
      "Index(['tms', 'mls', 'bms', 'result'], dtype='object')\n",
      "info gain=brs\n",
      "Index(['tms', 'trs', 'mls', 'mrs', 'bls', 'bms', 'result'], dtype='object')\n",
      "info gain=mrs\n",
      "Index(['tms', 'trs', 'mls', 'bls', 'bms', 'result'], dtype='object')\n",
      "info gain=trs\n",
      "Index(['tms', 'mls', 'bls', 'bms', 'result'], dtype='object')\n",
      "info gain=bls\n",
      "Index(['tms', 'mls', 'bms', 'result'], dtype='object')\n",
      "info gain=mls\n",
      "Index(['tms', 'bms', 'result'], dtype='object')\n",
      "info gain=bls\n",
      "Index(['tms', 'trs', 'mls', 'bms', 'result'], dtype='object')\n",
      "info gain=bms\n",
      "Index(['tms', 'trs', 'mls', 'result'], dtype='object')\n",
      "info gain=mls\n",
      "Index(['tms', 'trs', 'bls', 'bms', 'result'], dtype='object')\n",
      "info gain=bls\n",
      "Index(['tms', 'trs', 'bms', 'result'], dtype='object')\n",
      "info gain=trs\n",
      "Index(['tms', 'bms', 'result'], dtype='object')\n",
      "info gain=tms\n",
      "Index(['trs', 'bls', 'bms', 'result'], dtype='object')\n",
      "info gain=trs\n",
      "Index(['bls', 'bms', 'result'], dtype='object')\n",
      "info gain=brs\n",
      "Index(['tms', 'trs', 'mls', 'mrs', 'bls', 'bms', 'result'], dtype='object')\n",
      "info gain=trs\n",
      "Index(['tms', 'mls', 'mrs', 'bls', 'bms', 'result'], dtype='object')\n",
      "info gain=mrs\n",
      "Index(['tms', 'mls', 'bls', 'bms', 'result'], dtype='object')\n",
      "info gain=bls\n",
      "Index(['tms', 'mls', 'bms', 'result'], dtype='object')\n",
      "info gain=mls\n",
      "Index(['tms', 'bms', 'result'], dtype='object')\n",
      "info gain=mls\n",
      "Index(['tms', 'bls', 'bms', 'result'], dtype='object')\n",
      "info gain=bls\n",
      "Index(['tms', 'bms', 'result'], dtype='object')\n",
      "info gain=bls\n",
      "Index(['tms', 'mls', 'mrs', 'bms', 'result'], dtype='object')\n",
      "info gain=bms\n",
      "Index(['tms', 'mls', 'mrs', 'result'], dtype='object')\n",
      "info gain=bls\n",
      "Index(['tms', 'mls', 'mrs', 'bms', 'result'], dtype='object')\n",
      "info gain=tms\n",
      "Index(['mls', 'mrs', 'bms', 'result'], dtype='object')\n"
     ]
    }
   ],
   "source": [
    "main=tree_split(data)"
   ]
  },
  {
   "cell_type": "code",
   "execution_count": 198,
   "metadata": {
    "collapsed": true
   },
   "outputs": [],
   "source": [
    "def predict(l1,node):\n",
    "    if(not node):\n",
    "        return \"not found\"\n",
    "    attr=node.attr\n",
    "    print(node.attr,node.child[l1[attr]])\n",
    "    res=node.child[l1[attr]]\n",
    "    if(res=='positive' or res=='negative'):\n",
    "        return res\n",
    "    else:\n",
    "        return predict(l1,res)"
   ]
  },
  {
   "cell_type": "code",
   "execution_count": 209,
   "metadata": {},
   "outputs": [
    {
     "name": "stdout",
     "output_type": "stream",
     "text": [
      "mms positive\n",
      "positive\n"
     ]
    }
   ],
   "source": [
    "final={}\n",
    "final['tls']='x'\n",
    "final['tms']='b'\n",
    "final['trs']='x'\n",
    "final['mls']='b'\n",
    "final['mms']='b'\n",
    "final['mrs']='x'\n",
    "final['bls']='o'\n",
    "final['bms']='o'\n",
    "final['brs']='o'\n",
    "print(predict(final,main))"
   ]
  },
  {
   "cell_type": "code",
   "execution_count": 230,
   "metadata": {
    "collapsed": true
   },
   "outputs": [],
   "source": [
    "def printnode(nodes):\n",
    "    print(nodes.attr)\n",
    "    for i in nodes.child:\n",
    "        #if(nodes.child[i]=='positive' or nodes.child[i]=='negative'):\n",
    "        print(i,nodes.child[i])\n",
    "        #else:\n",
    "        #   printnode(nodes.child[i])"
   ]
  },
  {
   "cell_type": "code",
   "execution_count": 231,
   "metadata": {},
   "outputs": [
    {
     "name": "stdout",
     "output_type": "stream",
     "text": [
      "mms\n",
      "o <__main__.tree object at 0x0000016CC349EA90>\n",
      "b positive\n",
      "x <__main__.tree object at 0x0000016CC338C2B0>\n"
     ]
    }
   ],
   "source": [
    "printnode(main)"
   ]
  },
  {
   "cell_type": "code",
   "execution_count": 244,
   "metadata": {},
   "outputs": [
    {
     "ename": "AttributeError",
     "evalue": "'tree' object has no attribute 'left'",
     "output_type": "error",
     "traceback": [
      "\u001b[1;31m---------------------------------------------------------------------------\u001b[0m",
      "\u001b[1;31mAttributeError\u001b[0m                            Traceback (most recent call last)",
      "\u001b[1;32m<ipython-input-244-6f112e7fb50d>\u001b[0m in \u001b[0;36m<module>\u001b[1;34m()\u001b[0m\n\u001b[0;32m      1\u001b[0m \u001b[0mxc\u001b[0m\u001b[1;33m=\u001b[0m\u001b[0mxc\u001b[0m\u001b[1;33m.\u001b[0m\u001b[0mchild\u001b[0m\u001b[1;33m[\u001b[0m\u001b[1;34m'o'\u001b[0m\u001b[1;33m]\u001b[0m\u001b[1;33m\u001b[0m\u001b[0m\n\u001b[1;32m----> 2\u001b[1;33m \u001b[0mprintnode\u001b[0m\u001b[1;33m(\u001b[0m\u001b[0mxc\u001b[0m\u001b[1;33m)\u001b[0m\u001b[1;33m\u001b[0m\u001b[0m\n\u001b[0m",
      "\u001b[1;32m<ipython-input-242-a446380afaa4>\u001b[0m in \u001b[0;36mprintnode\u001b[1;34m(node)\u001b[0m\n\u001b[0;32m      1\u001b[0m \u001b[1;32mdef\u001b[0m \u001b[0mprintnode\u001b[0m\u001b[1;33m(\u001b[0m\u001b[0mnode\u001b[0m\u001b[1;33m)\u001b[0m\u001b[1;33m:\u001b[0m\u001b[1;33m\u001b[0m\u001b[0m\n\u001b[0;32m      2\u001b[0m     \u001b[1;32mif\u001b[0m\u001b[1;33m(\u001b[0m\u001b[0mnode\u001b[0m\u001b[1;33m!=\u001b[0m\u001b[1;32mNone\u001b[0m\u001b[1;33m)\u001b[0m\u001b[1;33m:\u001b[0m\u001b[1;33m\u001b[0m\u001b[0m\n\u001b[1;32m----> 3\u001b[1;33m         \u001b[0mprintnode\u001b[0m\u001b[1;33m(\u001b[0m\u001b[0mnode\u001b[0m\u001b[1;33m.\u001b[0m\u001b[0mleft\u001b[0m\u001b[1;33m)\u001b[0m\u001b[1;33m\u001b[0m\u001b[0m\n\u001b[0m\u001b[0;32m      4\u001b[0m         \u001b[0mprint\u001b[0m\u001b[1;33m(\u001b[0m\u001b[0mnode\u001b[0m\u001b[1;33m.\u001b[0m\u001b[0mdata\u001b[0m\u001b[1;33m)\u001b[0m\u001b[1;33m\u001b[0m\u001b[0m\n\u001b[0;32m      5\u001b[0m         \u001b[0mprintnode\u001b[0m\u001b[1;33m(\u001b[0m\u001b[0mnode\u001b[0m\u001b[1;33m.\u001b[0m\u001b[0mright\u001b[0m\u001b[1;33m)\u001b[0m\u001b[1;33m\u001b[0m\u001b[0m\n",
      "\u001b[1;31mAttributeError\u001b[0m: 'tree' object has no attribute 'left'"
     ]
    }
   ],
   "source": [
    "xc=xc.child['o']\n",
    "printnode(xc)"
   ]
  },
  {
   "cell_type": "code",
   "execution_count": 236,
   "metadata": {
    "collapsed": true
   },
   "outputs": [],
   "source": [
    "class trees:\n",
    "    data=None\n",
    "    left=None\n",
    "    right=None"
   ]
  },
  {
   "cell_type": "code",
   "execution_count": 248,
   "metadata": {
    "collapsed": true
   },
   "outputs": [],
   "source": [
    "def insert(node,val):\n",
    "    if(node==None):\n",
    "        node=trees()\n",
    "        node.data=val\n",
    "        return node\n",
    "    elif(node.data>val):\n",
    "        node.left=insert(node.left,val)\n",
    "    else:\n",
    "        node.right=insert(node.right,val)\n",
    "    return node"
   ]
  },
  {
   "cell_type": "code",
   "execution_count": 249,
   "metadata": {
    "collapsed": true
   },
   "outputs": [],
   "source": [
    "def printnode(node):\n",
    "    if(node!=None):\n",
    "        printnode(node.left)\n",
    "        print(node.data)\n",
    "        printnode(node.right)"
   ]
  },
  {
   "cell_type": "code",
   "execution_count": 250,
   "metadata": {},
   "outputs": [
    {
     "name": "stdout",
     "output_type": "stream",
     "text": [
      "0\n",
      "3\n",
      "6\n",
      "7\n",
      "9\n",
      "10\n"
     ]
    }
   ],
   "source": [
    "root=trees()\n",
    "root=insert(root,10)\n",
    "root=insert(root,9)\n",
    "root=insert(root,6)\n",
    "root=insert(root,3)\n",
    "root=insert(root,7)\n",
    "printnode(root)"
   ]
  },
  {
   "cell_type": "code",
   "execution_count": 276,
   "metadata": {},
   "outputs": [
    {
     "name": "stdout",
     "output_type": "stream",
     "text": [
      "[[1, 1, 1, 1, 2, 2, 1, 2, 2], [1, 1, 1, 1, 2, 2, 2, 1, 2], [1, 1, 1, 1, 2, 2, 2, 2, 1], [1, 1, 1, 1, 2, 2, 2, 3, 3], [1, 1, 1, 1, 2, 2, 3, 2, 3], [1, 1, 1, 1, 2, 2, 3, 3, 2], [1, 1, 1, 1, 2, 3, 2, 2, 3], [1, 1, 1, 1, 2, 3, 2, 3, 2], [1, 1, 1, 1, 2, 3, 3, 2, 2], [1, 1, 1, 1, 3, 2, 2, 2, 3], [1, 1, 1, 1, 3, 2, 2, 3, 2], [1, 1, 1, 1, 3, 2, 3, 2, 2], [1, 1, 1, 2, 1, 2, 1, 2, 2], [1, 1, 1, 2, 1, 2, 2, 1, 2], [1, 1, 1, 2, 1, 2, 2, 2, 1], [1, 1, 1, 2, 1, 2, 2, 3, 3], [1, 1, 1, 2, 1, 2, 3, 2, 3], [1, 1, 1, 2, 1, 2, 3, 3, 2], [1, 1, 1, 2, 1, 3, 2, 2, 3], [1, 1, 1, 2, 1, 3, 2, 3, 2], [1, 1, 1, 2, 1, 3, 3, 2, 2], [1, 1, 1, 2, 2, 1, 1, 2, 2], [1, 1, 1, 2, 2, 1, 2, 1, 2], [1, 1, 1, 2, 2, 1, 2, 2, 1], [1, 1, 1, 2, 2, 1, 2, 3, 3], [1, 1, 1, 2, 2, 1, 3, 2, 3], [1, 1, 1, 2, 2, 1, 3, 3, 2], [1, 1, 1, 2, 2, 3, 1, 2, 3], [1, 1, 1, 2, 2, 3, 1, 3, 2], [1, 1, 1, 2, 2, 3, 2, 1, 3], [1, 1, 1, 2, 2, 3, 2, 3, 1], [1, 1, 1, 2, 2, 3, 3, 1, 2], [1, 1, 1, 2, 2, 3, 3, 2, 1], [1, 1, 1, 2, 2, 3, 3, 3, 3], [1, 1, 1, 2, 3, 1, 2, 2, 3], [1, 1, 1, 2, 3, 1, 2, 3, 2], [1, 1, 1, 2, 3, 1, 3, 2, 2], [1, 1, 1, 2, 3, 2, 1, 2, 3], [1, 1, 1, 2, 3, 2, 1, 3, 2], [1, 1, 1, 2, 3, 2, 2, 1, 3], [1, 1, 1, 2, 3, 2, 2, 3, 1], [1, 1, 1, 2, 3, 2, 3, 1, 2], [1, 1, 1, 2, 3, 2, 3, 2, 1], [1, 1, 1, 2, 3, 2, 3, 3, 3], [1, 1, 1, 2, 3, 3, 1, 2, 2], [1, 1, 1, 2, 3, 3, 2, 1, 2], [1, 1, 1, 2, 3, 3, 2, 2, 1], [1, 1, 1, 2, 3, 3, 2, 3, 3], [1, 1, 1, 2, 3, 3, 3, 2, 3], [1, 1, 1, 2, 3, 3, 3, 3, 2], [1, 1, 1, 3, 1, 2, 2, 2, 3], [1, 1, 1, 3, 1, 2, 2, 3, 2], [1, 1, 1, 3, 1, 2, 3, 2, 2], [1, 1, 1, 3, 2, 1, 2, 2, 3], [1, 1, 1, 3, 2, 1, 2, 3, 2], [1, 1, 1, 3, 2, 1, 3, 2, 2], [1, 1, 1, 3, 2, 2, 1, 2, 3], [1, 1, 1, 3, 2, 2, 1, 3, 2], [1, 1, 1, 3, 2, 2, 2, 1, 3], [1, 1, 1, 3, 2, 2, 2, 3, 1], [1, 1, 1, 3, 2, 2, 3, 1, 2], [1, 1, 1, 3, 2, 2, 3, 2, 1], [1, 1, 1, 3, 2, 2, 3, 3, 3], [1, 1, 1, 3, 2, 3, 1, 2, 2], [1, 1, 1, 3, 2, 3, 2, 1, 2], [1, 1, 1, 3, 2, 3, 2, 2, 1], [1, 1, 1, 3, 2, 3, 2, 3, 3], [1, 1, 1, 3, 2, 3, 3, 2, 3], [1, 1, 1, 3, 2, 3, 3, 3, 2], [1, 1, 1, 3, 3, 2, 1, 2, 2], [1, 1, 1, 3, 3, 2, 2, 1, 2], [1, 1, 1, 3, 3, 2, 2, 2, 1], [1, 1, 1, 3, 3, 2, 2, 3, 3], [1, 1, 1, 3, 3, 2, 3, 2, 3], [1, 1, 1, 3, 3, 2, 3, 3, 2], [1, 1, 1, 3, 3, 3, 2, 2, 3], [1, 1, 1, 3, 3, 3, 2, 3, 2], [1, 1, 1, 3, 3, 3, 3, 2, 2], [1, 1, 2, 1, 1, 2, 2, 2, 1], [1, 1, 2, 1, 2, 1, 1, 2, 2], [1, 1, 2, 1, 2, 2, 1, 2, 1], [1, 1, 2, 1, 2, 2, 1, 3, 3], [1, 1, 2, 1, 2, 3, 1, 2, 3], [1, 1, 2, 1, 2, 3, 1, 3, 2], [1, 1, 2, 1, 3, 2, 1, 2, 3], [1, 1, 2, 1, 3, 3, 1, 2, 2], [1, 1, 2, 2, 1, 1, 2, 1, 2], [1, 1, 2, 2, 1, 1, 2, 2, 1], [1, 1, 2, 2, 1, 2, 1, 2, 1], [1, 1, 2, 2, 1, 2, 2, 1, 1], [1, 1, 2, 2, 1, 2, 3, 1, 3], [1, 1, 2, 2, 1, 2, 3, 3, 1], [1, 1, 2, 2, 1, 3, 2, 1, 3], [1, 1, 2, 2, 1, 3, 2, 3, 1], [1, 1, 2, 2, 1, 3, 3, 1, 2], [1, 1, 2, 2, 1, 3, 3, 2, 1], [1, 1, 2, 3, 1, 2, 2, 1, 3], [1, 1, 2, 3, 1, 2, 2, 3, 1], [1, 1, 2, 3, 1, 2, 3, 2, 1], [1, 1, 2, 3, 1, 3, 2, 1, 2], [1, 1, 2, 3, 1, 3, 2, 2, 1], [1, 1, 3, 1, 2, 2, 1, 2, 3], [1, 1, 3, 1, 2, 2, 1, 3, 2], [1, 1, 3, 1, 2, 3, 1, 2, 2], [1, 1, 3, 1, 3, 2, 1, 2, 2], [1, 1, 3, 2, 1, 2, 2, 1, 3], [1, 1, 3, 2, 1, 2, 2, 3, 1], [1, 1, 3, 2, 1, 2, 3, 1, 2], [1, 1, 3, 2, 1, 2, 3, 2, 1], [1, 1, 3, 2, 1, 3, 2, 1, 2], [1, 1, 3, 2, 1, 3, 2, 2, 1], [1, 1, 3, 3, 1, 2, 2, 1, 2], [1, 1, 3, 3, 1, 2, 2, 2, 1], [1, 2, 1, 1, 1, 2, 1, 2, 2], [1, 2, 1, 1, 1, 2, 2, 2, 1], [1, 2, 1, 1, 2, 2, 1, 1, 2], [1, 2, 1, 1, 2, 2, 1, 3, 3], [1, 2, 1, 1, 2, 3, 1, 3, 2], [1, 2, 1, 1, 3, 2, 1, 2, 3], [1, 2, 1, 1, 3, 2, 1, 3, 2], [1, 2, 1, 1, 3, 3, 1, 2, 2], [1, 2, 1, 2, 1, 1, 1, 2, 2], [1, 2, 1, 2, 1, 1, 2, 2, 1], [1, 2, 1, 2, 1, 2, 1, 1, 2], [1, 2, 1, 2, 1, 2, 1, 2, 1], [1, 2, 1, 2, 1, 2, 1, 3, 3], [1, 2, 1, 2, 1, 2, 2, 1, 1], [1, 2, 1, 2, 1, 2, 3, 3, 1], [1, 2, 1, 2, 1, 3, 1, 2, 3], [1, 2, 1, 2, 1, 3, 1, 3, 2], [1, 2, 1, 2, 1, 3, 2, 3, 1], [1, 2, 1, 2, 1, 3, 3, 2, 1], [1, 2, 1, 2, 2, 1, 2, 1, 1], [1, 2, 1, 2, 2, 1, 3, 3, 1], [1, 2, 1, 2, 3, 1, 2, 3, 1], [1, 2, 1, 2, 3, 1, 3, 2, 1], [1, 2, 1, 3, 1, 2, 1, 2, 3], [1, 2, 1, 3, 1, 2, 1, 3, 2], [1, 2, 1, 3, 1, 2, 2, 3, 1], [1, 2, 1, 3, 1, 2, 3, 2, 1], [1, 2, 1, 3, 1, 3, 1, 2, 2], [1, 2, 1, 3, 1, 3, 2, 2, 1], [1, 2, 1, 3, 2, 1, 2, 3, 1], [1, 2, 1, 3, 3, 1, 2, 2, 1], [1, 2, 2, 1, 1, 1, 1, 2, 2], [1, 2, 2, 1, 1, 1, 2, 1, 2], [1, 2, 2, 1, 1, 1, 2, 2, 1], [1, 2, 2, 1, 1, 1, 2, 3, 3], [1, 2, 2, 1, 1, 1, 3, 2, 3], [1, 2, 2, 1, 1, 1, 3, 3, 2], [1, 2, 2, 1, 1, 2, 1, 2, 1], [1, 2, 2, 1, 1, 2, 1, 3, 3], [1, 2, 2, 1, 1, 2, 2, 1, 1], [1, 2, 2, 1, 1, 2, 3, 3, 1], [1, 2, 2, 1, 1, 3, 1, 2, 3], [1, 2, 2, 1, 1, 3, 1, 3, 2], [1, 2, 2, 1, 1, 3, 2, 3, 1], [1, 2, 2, 1, 1, 3, 3, 2, 1], [1, 2, 2, 1, 2, 1, 1, 1, 2], [1, 2, 2, 1, 2, 1, 1, 3, 3], [1, 2, 2, 1, 2, 2, 1, 1, 1], [1, 2, 2, 1, 2, 3, 1, 1, 3], [1, 2, 2, 1, 2, 3, 1, 3, 1], [1, 2, 2, 1, 3, 1, 1, 2, 3], [1, 2, 2, 1, 3, 1, 1, 3, 2], [1, 2, 2, 1, 3, 2, 1, 1, 3], [1, 2, 2, 1, 3, 2, 1, 3, 1], [1, 2, 2, 1, 3, 3, 1, 1, 2], [1, 2, 2, 1, 3, 3, 1, 2, 1], [1, 2, 2, 1, 3, 3, 1, 3, 3], [1, 2, 2, 2, 1, 1, 1, 2, 1], [1, 2, 2, 2, 1, 1, 2, 1, 1], [1, 2, 2, 2, 1, 1, 3, 3, 1], [1, 2, 2, 2, 1, 2, 1, 1, 1], [1, 2, 2, 2, 1, 3, 1, 3, 1], [1, 2, 2, 2, 1, 3, 3, 1, 1], [1, 2, 2, 2, 2, 1, 1, 1, 1], [1, 2, 2, 2, 3, 3, 1, 1, 1], [1, 2, 2, 3, 1, 1, 2, 3, 1], [1, 2, 2, 3, 1, 1, 3, 2, 1], [1, 2, 2, 3, 1, 2, 1, 3, 1], [1, 2, 2, 3, 1, 2, 3, 1, 1], [1, 2, 2, 3, 1, 3, 1, 2, 1], [1, 2, 2, 3, 1, 3, 2, 1, 1], [1, 2, 2, 3, 1, 3, 3, 3, 1], [1, 2, 2, 3, 2, 3, 1, 1, 1], [1, 2, 2, 3, 3, 2, 1, 1, 1], [1, 2, 3, 1, 1, 1, 2, 2, 3], [1, 2, 3, 1, 1, 1, 2, 3, 2], [1, 2, 3, 1, 1, 1, 3, 2, 2], [1, 2, 3, 1, 1, 2, 1, 2, 3], [1, 2, 3, 1, 1, 2, 1, 3, 2], [1, 2, 3, 1, 1, 2, 2, 3, 1], [1, 2, 3, 1, 1, 2, 3, 2, 1], [1, 2, 3, 1, 1, 3, 1, 2, 2], [1, 2, 3, 1, 1, 3, 2, 2, 1], [1, 2, 3, 1, 2, 1, 1, 3, 2], [1, 2, 3, 1, 2, 2, 1, 1, 3], [1, 2, 3, 1, 2, 2, 1, 3, 1], [1, 2, 3, 1, 2, 3, 1, 1, 2], [1, 2, 3, 1, 2, 3, 1, 3, 3], [1, 2, 3, 1, 3, 1, 1, 2, 2], [1, 2, 3, 1, 3, 2, 1, 1, 2], [1, 2, 3, 1, 3, 2, 1, 2, 1], [1, 2, 3, 1, 3, 2, 1, 3, 3], [1, 2, 3, 1, 3, 3, 1, 2, 3], [1, 2, 3, 1, 3, 3, 1, 3, 2], [1, 2, 3, 2, 1, 1, 2, 3, 1], [1, 2, 3, 2, 1, 1, 3, 2, 1], [1, 2, 3, 2, 1, 2, 1, 3, 1], [1, 2, 3, 2, 1, 2, 3, 1, 1], [1, 2, 3, 2, 1, 3, 1, 2, 1], [1, 2, 3, 2, 1, 3, 2, 1, 1], [1, 2, 3, 2, 1, 3, 3, 3, 1], [1, 2, 3, 2, 2, 3, 1, 1, 1], [1, 2, 3, 2, 3, 2, 1, 1, 1], [1, 2, 3, 3, 1, 1, 2, 2, 1], [1, 2, 3, 3, 1, 2, 1, 2, 1], [1, 2, 3, 3, 1, 2, 2, 1, 1], [1, 2, 3, 3, 1, 2, 3, 3, 1], [1, 2, 3, 3, 1, 3, 2, 3, 1], [1, 2, 3, 3, 1, 3, 3, 2, 1], [1, 2, 3, 3, 2, 2, 1, 1, 1], [1, 3, 1, 1, 2, 2, 1, 2, 3], [1, 3, 1, 1, 2, 2, 1, 3, 2], [1, 3, 1, 1, 2, 3, 1, 2, 2], [1, 3, 1, 1, 3, 2, 1, 2, 2], [1, 3, 1, 2, 1, 2, 1, 2, 3], [1, 3, 1, 2, 1, 2, 1, 3, 2], [1, 3, 1, 2, 1, 2, 2, 3, 1], [1, 3, 1, 2, 1, 2, 3, 2, 1], [1, 3, 1, 2, 1, 3, 1, 2, 2], [1, 3, 1, 2, 1, 3, 2, 2, 1], [1, 3, 1, 2, 2, 1, 2, 3, 1], [1, 3, 1, 2, 2, 1, 3, 2, 1], [1, 3, 1, 2, 3, 1, 2, 2, 1], [1, 3, 1, 3, 1, 2, 1, 2, 2], [1, 3, 1, 3, 1, 2, 2, 2, 1], [1, 3, 1, 3, 2, 1, 2, 2, 1], [1, 3, 2, 1, 1, 1, 2, 2, 3], [1, 3, 2, 1, 1, 1, 2, 3, 2], [1, 3, 2, 1, 1, 1, 3, 2, 2], [1, 3, 2, 1, 1, 2, 1, 2, 3], [1, 3, 2, 1, 1, 2, 2, 3, 1], [1, 3, 2, 1, 1, 2, 3, 2, 1], [1, 3, 2, 1, 1, 3, 1, 2, 2], [1, 3, 2, 1, 1, 3, 2, 2, 1], [1, 3, 2, 1, 2, 1, 1, 2, 3], [1, 3, 2, 1, 2, 1, 1, 3, 2], [1, 3, 2, 1, 2, 2, 1, 1, 3], [1, 3, 2, 1, 2, 2, 1, 3, 1], [1, 3, 2, 1, 2, 3, 1, 1, 2], [1, 3, 2, 1, 2, 3, 1, 2, 1], [1, 3, 2, 1, 2, 3, 1, 3, 3], [1, 3, 2, 1, 3, 1, 1, 2, 2], [1, 3, 2, 1, 3, 2, 1, 2, 1], [1, 3, 2, 1, 3, 2, 1, 3, 3], [1, 3, 2, 1, 3, 3, 1, 2, 3], [1, 3, 2, 1, 3, 3, 1, 3, 2], [1, 3, 2, 2, 1, 1, 2, 3, 1], [1, 3, 2, 2, 1, 1, 3, 2, 1], [1, 3, 2, 2, 1, 2, 1, 3, 1], [1, 3, 2, 2, 1, 2, 3, 1, 1], [1, 3, 2, 2, 1, 3, 1, 2, 1], [1, 3, 2, 2, 1, 3, 2, 1, 1], [1, 3, 2, 2, 1, 3, 3, 3, 1], [1, 3, 2, 2, 2, 3, 1, 1, 1], [1, 3, 2, 2, 3, 2, 1, 1, 1], [1, 3, 2, 3, 1, 1, 2, 2, 1], [1, 3, 2, 3, 1, 2, 1, 2, 1], [1, 3, 2, 3, 1, 2, 2, 1, 1], [1, 3, 2, 3, 1, 2, 3, 3, 1], [1, 3, 2, 3, 1, 3, 2, 3, 1], [1, 3, 2, 3, 1, 3, 3, 2, 1], [1, 3, 2, 3, 2, 2, 1, 1, 1], [1, 3, 3, 1, 1, 2, 1, 2, 2], [1, 3, 3, 1, 1, 2, 2, 2, 1], [1, 3, 3, 1, 2, 1, 1, 2, 2], [1, 3, 3, 1, 2, 2, 1, 1, 2], [1, 3, 3, 1, 2, 2, 1, 2, 1], [1, 3, 3, 1, 2, 2, 1, 3, 3], [1, 3, 3, 1, 2, 3, 1, 2, 3], [1, 3, 3, 1, 2, 3, 1, 3, 2], [1, 3, 3, 1, 3, 2, 1, 2, 3], [1, 3, 3, 1, 3, 2, 1, 3, 2], [1, 3, 3, 1, 3, 3, 1, 2, 2], [1, 3, 3, 2, 1, 1, 2, 2, 1], [1, 3, 3, 2, 1, 2, 1, 2, 1], [1, 3, 3, 2, 1, 2, 2, 1, 1], [1, 3, 3, 2, 1, 2, 3, 3, 1], [1, 3, 3, 2, 1, 3, 2, 3, 1], [1, 3, 3, 2, 1, 3, 3, 2, 1], [1, 3, 3, 3, 1, 2, 2, 3, 1], [1, 3, 3, 3, 1, 2, 3, 2, 1], [1, 3, 3, 3, 1, 3, 2, 2, 1], [2, 1, 1, 1, 1, 2, 1, 2, 2], [2, 1, 1, 1, 1, 2, 2, 1, 2], [2, 1, 1, 1, 2, 1, 2, 2, 1], [2, 1, 1, 2, 1, 1, 1, 2, 2], [2, 1, 1, 2, 1, 2, 1, 1, 2], [2, 1, 1, 2, 1, 2, 1, 2, 1], [2, 1, 1, 2, 1, 2, 1, 3, 3], [2, 1, 1, 2, 1, 2, 3, 1, 3], [2, 1, 1, 2, 1, 3, 1, 2, 3], [2, 1, 1, 2, 1, 3, 1, 3, 2], [2, 1, 1, 2, 1, 3, 3, 1, 2], [2, 1, 1, 2, 2, 1, 1, 2, 1], [2, 1, 1, 2, 2, 1, 3, 3, 1], [2, 1, 1, 2, 3, 1, 3, 2, 1], [2, 1, 1, 3, 1, 2, 1, 2, 3], [2, 1, 1, 3, 1, 2, 1, 3, 2], [2, 1, 1, 3, 1, 2, 2, 1, 3], [2, 1, 1, 3, 1, 2, 3, 1, 2], [2, 1, 1, 3, 1, 3, 1, 2, 2], [2, 1, 1, 3, 1, 3, 2, 1, 2], [2, 1, 1, 3, 2, 1, 2, 3, 1], [2, 1, 1, 3, 2, 1, 3, 2, 1], [2, 1, 1, 3, 3, 1, 2, 2, 1], [2, 1, 2, 1, 1, 1, 1, 2, 2], [2, 1, 2, 1, 1, 1, 2, 1, 2], [2, 1, 2, 1, 1, 1, 2, 2, 1], [2, 1, 2, 1, 1, 1, 2, 3, 3], [2, 1, 2, 1, 1, 1, 3, 2, 3], [2, 1, 2, 1, 1, 1, 3, 3, 2], [2, 1, 2, 1, 1, 2, 2, 1, 1], [2, 1, 2, 1, 1, 2, 3, 1, 3], [2, 1, 2, 1, 1, 3, 2, 1, 3], [2, 1, 2, 1, 1, 3, 3, 1, 2], [2, 1, 2, 1, 2, 2, 1, 1, 1], [2, 1, 2, 2, 1, 1, 1, 1, 2], [2, 1, 2, 2, 1, 1, 3, 1, 3], [2, 1, 2, 2, 1, 2, 1, 1, 1], [2, 1, 2, 2, 1, 3, 1, 1, 3], [2, 1, 2, 2, 1, 3, 3, 1, 1], [2, 1, 2, 2, 2, 1, 1, 1, 1], [2, 1, 2, 2, 3, 3, 1, 1, 1], [2, 1, 2, 3, 1, 1, 2, 1, 3], [2, 1, 2, 3, 1, 1, 3, 1, 2], [2, 1, 2, 3, 1, 2, 1, 1, 3], [2, 1, 2, 3, 1, 2, 3, 1, 1], [2, 1, 2, 3, 1, 3, 1, 1, 2], [2, 1, 2, 3, 1, 3, 2, 1, 1], [2, 1, 2, 3, 1, 3, 3, 1, 3], [2, 1, 2, 3, 2, 3, 1, 1, 1], [2, 1, 2, 3, 3, 2, 1, 1, 1], [2, 1, 3, 1, 1, 1, 2, 2, 3], [2, 1, 3, 1, 1, 1, 2, 3, 2], [2, 1, 3, 1, 1, 1, 3, 2, 2], [2, 1, 3, 1, 1, 2, 2, 1, 3], [2, 1, 3, 1, 1, 2, 3, 1, 2], [2, 1, 3, 1, 1, 3, 2, 1, 2], [2, 1, 3, 2, 1, 1, 3, 1, 2], [2, 1, 3, 2, 1, 2, 1, 1, 3], [2, 1, 3, 2, 1, 2, 3, 1, 1], [2, 1, 3, 2, 1, 3, 1, 1, 2], [2, 1, 3, 2, 1, 3, 3, 1, 3], [2, 1, 3, 2, 2, 3, 1, 1, 1], [2, 1, 3, 2, 3, 2, 1, 1, 1], [2, 1, 3, 3, 1, 1, 2, 1, 2], [2, 1, 3, 3, 1, 2, 1, 1, 2], [2, 1, 3, 3, 1, 2, 2, 1, 1], [2, 1, 3, 3, 1, 2, 3, 1, 3], [2, 1, 3, 3, 1, 3, 2, 1, 3], [2, 1, 3, 3, 1, 3, 3, 1, 2], [2, 1, 3, 3, 2, 2, 1, 1, 1], [2, 2, 1, 1, 1, 1, 1, 2, 2], [2, 2, 1, 1, 1, 1, 2, 1, 2], [2, 2, 1, 1, 1, 1, 2, 2, 1], [2, 2, 1, 1, 1, 1, 2, 3, 3], [2, 2, 1, 1, 1, 1, 3, 2, 3], [2, 2, 1, 1, 1, 1, 3, 3, 2], [2, 2, 1, 1, 1, 2, 1, 1, 2], [2, 2, 1, 1, 1, 2, 1, 2, 1], [2, 2, 1, 1, 1, 2, 1, 3, 3], [2, 2, 1, 1, 1, 3, 1, 2, 3], [2, 2, 1, 1, 1, 3, 1, 3, 2], [2, 2, 1, 1, 2, 1, 2, 1, 1], [2, 2, 1, 1, 2, 1, 3, 3, 1], [2, 2, 1, 1, 2, 2, 1, 1, 1], [2, 2, 1, 1, 3, 1, 2, 3, 1], [2, 2, 1, 1, 3, 1, 3, 2, 1], [2, 2, 1, 2, 1, 1, 1, 1, 2], [2, 2, 1, 2, 1, 1, 1, 2, 1], [2, 2, 1, 2, 1, 1, 1, 3, 3], [2, 2, 1, 2, 1, 1, 3, 3, 1], [2, 2, 1, 2, 1, 2, 1, 1, 1], [2, 2, 1, 2, 1, 3, 1, 1, 3], [2, 2, 1, 2, 1, 3, 1, 3, 1], [2, 2, 1, 2, 2, 1, 1, 1, 1], [2, 2, 1, 2, 3, 1, 1, 3, 1], [2, 2, 1, 2, 3, 1, 3, 1, 1], [2, 2, 1, 2, 3, 3, 1, 1, 1], [2, 2, 1, 3, 1, 1, 1, 2, 3], [2, 2, 1, 3, 1, 1, 1, 3, 2], [2, 2, 1, 3, 1, 1, 2, 3, 1], [2, 2, 1, 3, 1, 1, 3, 2, 1], [2, 2, 1, 3, 1, 2, 1, 1, 3], [2, 2, 1, 3, 1, 2, 1, 3, 1], [2, 2, 1, 3, 1, 3, 1, 1, 2], [2, 2, 1, 3, 1, 3, 1, 2, 1], [2, 2, 1, 3, 1, 3, 1, 3, 3], [2, 2, 1, 3, 2, 1, 1, 3, 1], [2, 2, 1, 3, 2, 1, 3, 1, 1], [2, 2, 1, 3, 2, 3, 1, 1, 1], [2, 2, 1, 3, 3, 1, 1, 2, 1], [2, 2, 1, 3, 3, 1, 2, 1, 1], [2, 2, 1, 3, 3, 1, 3, 3, 1], [2, 2, 1, 3, 3, 2, 1, 1, 1], [2, 2, 3, 1, 1, 1, 1, 2, 3], [2, 2, 3, 1, 1, 1, 1, 3, 2], [2, 2, 3, 1, 1, 1, 2, 1, 3], [2, 2, 3, 1, 1, 1, 2, 3, 1], [2, 2, 3, 1, 1, 1, 3, 1, 2], [2, 2, 3, 1, 1, 1, 3, 2, 1], [2, 2, 3, 1, 1, 1, 3, 3, 3], [2, 2, 3, 1, 2, 3, 1, 1, 1], [2, 2, 3, 1, 3, 2, 1, 1, 1], [2, 2, 3, 2, 1, 3, 1, 1, 1], [2, 2, 3, 2, 3, 1, 1, 1, 1], [2, 2, 3, 3, 1, 2, 1, 1, 1], [2, 2, 3, 3, 2, 1, 1, 1, 1], [2, 2, 3, 3, 3, 3, 1, 1, 1], [2, 3, 1, 1, 1, 1, 2, 2, 3], [2, 3, 1, 1, 1, 1, 2, 3, 2], [2, 3, 1, 1, 1, 1, 3, 2, 2], [2, 3, 1, 1, 1, 2, 1, 2, 3], [2, 3, 1, 1, 1, 2, 1, 3, 2], [2, 3, 1, 1, 1, 3, 1, 2, 2], [2, 3, 1, 1, 2, 1, 2, 3, 1], [2, 3, 1, 1, 2, 1, 3, 2, 1], [2, 3, 1, 1, 3, 1, 2, 2, 1], [2, 3, 1, 2, 1, 1, 1, 2, 3], [2, 3, 1, 2, 1, 1, 1, 3, 2], [2, 3, 1, 2, 1, 1, 3, 2, 1], [2, 3, 1, 2, 1, 2, 1, 1, 3], [2, 3, 1, 2, 1, 2, 1, 3, 1], [2, 3, 1, 2, 1, 3, 1, 1, 2], [2, 3, 1, 2, 1, 3, 1, 2, 1], [2, 3, 1, 2, 1, 3, 1, 3, 3], [2, 3, 1, 2, 2, 1, 1, 3, 1], [2, 3, 1, 2, 2, 1, 3, 1, 1], [2, 3, 1, 2, 2, 3, 1, 1, 1], [2, 3, 1, 2, 3, 1, 1, 2, 1], [2, 3, 1, 2, 3, 1, 3, 3, 1], [2, 3, 1, 2, 3, 2, 1, 1, 1], [2, 3, 1, 3, 1, 1, 1, 2, 2], [2, 3, 1, 3, 1, 1, 2, 2, 1], [2, 3, 1, 3, 1, 2, 1, 1, 2], [2, 3, 1, 3, 1, 2, 1, 2, 1], [2, 3, 1, 3, 1, 2, 1, 3, 3], [2, 3, 1, 3, 1, 3, 1, 2, 3], [2, 3, 1, 3, 1, 3, 1, 3, 2], [2, 3, 1, 3, 2, 1, 1, 2, 1], [2, 3, 1, 3, 2, 1, 2, 1, 1], [2, 3, 1, 3, 2, 1, 3, 3, 1], [2, 3, 1, 3, 2, 2, 1, 1, 1], [2, 3, 1, 3, 3, 1, 2, 3, 1], [2, 3, 1, 3, 3, 1, 3, 2, 1], [2, 3, 2, 1, 1, 1, 1, 2, 3], [2, 3, 2, 1, 1, 1, 1, 3, 2], [2, 3, 2, 1, 1, 1, 2, 1, 3], [2, 3, 2, 1, 1, 1, 2, 3, 1], [2, 3, 2, 1, 1, 1, 3, 1, 2], [2, 3, 2, 1, 1, 1, 3, 2, 1], [2, 3, 2, 1, 1, 1, 3, 3, 3], [2, 3, 2, 1, 2, 3, 1, 1, 1], [2, 3, 2, 1, 3, 2, 1, 1, 1], [2, 3, 2, 2, 1, 3, 1, 1, 1], [2, 3, 2, 2, 3, 1, 1, 1, 1], [2, 3, 2, 3, 1, 2, 1, 1, 1], [2, 3, 2, 3, 2, 1, 1, 1, 1], [2, 3, 2, 3, 3, 3, 1, 1, 1], [2, 3, 3, 1, 1, 1, 1, 2, 2], [2, 3, 3, 1, 1, 1, 2, 1, 2], [2, 3, 3, 1, 1, 1, 2, 2, 1], [2, 3, 3, 1, 1, 1, 2, 3, 3], [2, 3, 3, 1, 1, 1, 3, 2, 3], [2, 3, 3, 1, 1, 1, 3, 3, 2], [2, 3, 3, 1, 2, 2, 1, 1, 1], [2, 3, 3, 2, 1, 2, 1, 1, 1], [2, 3, 3, 2, 2, 1, 1, 1, 1], [2, 3, 3, 2, 3, 3, 1, 1, 1], [2, 3, 3, 3, 2, 3, 1, 1, 1], [2, 3, 3, 3, 3, 2, 1, 1, 1], [3, 1, 1, 2, 1, 2, 1, 2, 3], [3, 1, 1, 2, 1, 2, 1, 3, 2], [3, 1, 1, 2, 1, 2, 2, 1, 3], [3, 1, 1, 2, 1, 2, 3, 1, 2], [3, 1, 1, 2, 1, 3, 1, 2, 2], [3, 1, 1, 2, 1, 3, 2, 1, 2], [3, 1, 1, 2, 2, 1, 2, 3, 1], [3, 1, 1, 2, 2, 1, 3, 2, 1], [3, 1, 1, 2, 3, 1, 2, 2, 1], [3, 1, 1, 3, 1, 2, 1, 2, 2], [3, 1, 1, 3, 1, 2, 2, 1, 2], [3, 1, 1, 3, 2, 1, 2, 2, 1], [3, 1, 2, 1, 1, 1, 2, 2, 3], [3, 1, 2, 1, 1, 1, 2, 3, 2], [3, 1, 2, 1, 1, 1, 3, 2, 2], [3, 1, 2, 1, 1, 2, 2, 1, 3], [3, 1, 2, 1, 1, 3, 2, 1, 2], [3, 1, 2, 2, 1, 1, 2, 1, 3], [3, 1, 2, 2, 1, 1, 3, 1, 2], [3, 1, 2, 2, 1, 2, 1, 1, 3], [3, 1, 2, 2, 1, 2, 3, 1, 1], [3, 1, 2, 2, 1, 3, 1, 1, 2], [3, 1, 2, 2, 1, 3, 2, 1, 1], [3, 1, 2, 2, 1, 3, 3, 1, 3], [3, 1, 2, 2, 2, 3, 1, 1, 1], [3, 1, 2, 2, 3, 2, 1, 1, 1], [3, 1, 2, 3, 1, 1, 2, 1, 2], [3, 1, 2, 3, 1, 2, 2, 1, 1], [3, 1, 2, 3, 1, 2, 3, 1, 3], [3, 1, 2, 3, 1, 3, 2, 1, 3], [3, 1, 2, 3, 1, 3, 3, 1, 2], [3, 1, 2, 3, 2, 2, 1, 1, 1], [3, 1, 3, 1, 1, 2, 2, 1, 2], [3, 1, 3, 2, 1, 1, 2, 1, 2], [3, 1, 3, 2, 1, 2, 1, 1, 2], [3, 1, 3, 2, 1, 2, 2, 1, 1], [3, 1, 3, 2, 1, 2, 3, 1, 3], [3, 1, 3, 2, 1, 3, 2, 1, 3], [3, 1, 3, 2, 1, 3, 3, 1, 2], [3, 1, 3, 3, 1, 2, 2, 1, 3], [3, 1, 3, 3, 1, 2, 3, 1, 2], [3, 1, 3, 3, 1, 3, 2, 1, 2], [3, 2, 1, 1, 1, 1, 2, 2, 3], [3, 2, 1, 1, 1, 1, 2, 3, 2], [3, 2, 1, 1, 1, 1, 3, 2, 2], [3, 2, 1, 1, 1, 2, 1, 2, 3], [3, 2, 1, 1, 1, 2, 1, 3, 2], [3, 2, 1, 1, 1, 3, 1, 2, 2], [3, 2, 1, 1, 2, 1, 2, 3, 1], [3, 2, 1, 1, 3, 1, 2, 2, 1], [3, 2, 1, 2, 1, 1, 1, 2, 3], [3, 2, 1, 2, 1, 1, 1, 3, 2], [3, 2, 1, 2, 1, 1, 2, 3, 1], [3, 2, 1, 2, 1, 1, 3, 2, 1], [3, 2, 1, 2, 1, 2, 1, 1, 3], [3, 2, 1, 2, 1, 2, 1, 3, 1], [3, 2, 1, 2, 1, 3, 1, 1, 2], [3, 2, 1, 2, 1, 3, 1, 2, 1], [3, 2, 1, 2, 1, 3, 1, 3, 3], [3, 2, 1, 2, 2, 1, 1, 3, 1], [3, 2, 1, 2, 2, 1, 3, 1, 1], [3, 2, 1, 2, 2, 3, 1, 1, 1], [3, 2, 1, 2, 3, 1, 1, 2, 1], [3, 2, 1, 2, 3, 1, 2, 1, 1], [3, 2, 1, 2, 3, 1, 3, 3, 1], [3, 2, 1, 2, 3, 2, 1, 1, 1], [3, 2, 1, 3, 1, 1, 1, 2, 2], [3, 2, 1, 3, 1, 1, 2, 2, 1], [3, 2, 1, 3, 1, 2, 1, 1, 2], [3, 2, 1, 3, 1, 2, 1, 2, 1], [3, 2, 1, 3, 1, 2, 1, 3, 3], [3, 2, 1, 3, 1, 3, 1, 2, 3], [3, 2, 1, 3, 1, 3, 1, 3, 2], [3, 2, 1, 3, 2, 1, 2, 1, 1], [3, 2, 1, 3, 2, 1, 3, 3, 1], [3, 2, 1, 3, 2, 2, 1, 1, 1], [3, 2, 1, 3, 3, 1, 2, 3, 1], [3, 2, 1, 3, 3, 1, 3, 2, 1], [3, 2, 2, 1, 1, 1, 1, 2, 3], [3, 2, 2, 1, 1, 1, 1, 3, 2], [3, 2, 2, 1, 1, 1, 2, 1, 3], [3, 2, 2, 1, 1, 1, 2, 3, 1], [3, 2, 2, 1, 1, 1, 3, 1, 2], [3, 2, 2, 1, 1, 1, 3, 2, 1], [3, 2, 2, 1, 1, 1, 3, 3, 3], [3, 2, 2, 1, 2, 3, 1, 1, 1], [3, 2, 2, 1, 3, 2, 1, 1, 1], [3, 2, 2, 2, 1, 3, 1, 1, 1], [3, 2, 2, 2, 3, 1, 1, 1, 1], [3, 2, 2, 3, 1, 2, 1, 1, 1], [3, 2, 2, 3, 2, 1, 1, 1, 1], [3, 2, 2, 3, 3, 3, 1, 1, 1], [3, 2, 3, 1, 1, 1, 1, 2, 2], [3, 2, 3, 1, 1, 1, 2, 1, 2], [3, 2, 3, 1, 1, 1, 2, 2, 1], [3, 2, 3, 1, 1, 1, 2, 3, 3], [3, 2, 3, 1, 1, 1, 3, 2, 3], [3, 2, 3, 1, 1, 1, 3, 3, 2], [3, 2, 3, 1, 2, 2, 1, 1, 1], [3, 2, 3, 2, 1, 2, 1, 1, 1], [3, 2, 3, 2, 2, 1, 1, 1, 1], [3, 2, 3, 2, 3, 3, 1, 1, 1], [3, 2, 3, 3, 2, 3, 1, 1, 1], [3, 2, 3, 3, 3, 2, 1, 1, 1], [3, 3, 1, 1, 1, 2, 1, 2, 2], [3, 3, 1, 1, 2, 1, 2, 2, 1], [3, 3, 1, 2, 1, 1, 1, 2, 2], [3, 3, 1, 2, 1, 1, 2, 2, 1], [3, 3, 1, 2, 1, 2, 1, 1, 2], [3, 3, 1, 2, 1, 2, 1, 2, 1], [3, 3, 1, 2, 1, 2, 1, 3, 3], [3, 3, 1, 2, 1, 3, 1, 2, 3], [3, 3, 1, 2, 1, 3, 1, 3, 2], [3, 3, 1, 2, 2, 1, 1, 2, 1], [3, 3, 1, 2, 2, 1, 2, 1, 1], [3, 3, 1, 2, 2, 1, 3, 3, 1], [3, 3, 1, 2, 3, 1, 2, 3, 1], [3, 3, 1, 2, 3, 1, 3, 2, 1], [3, 3, 1, 3, 1, 2, 1, 2, 3], [3, 3, 1, 3, 1, 2, 1, 3, 2], [3, 3, 1, 3, 1, 3, 1, 2, 2], [3, 3, 1, 3, 2, 1, 2, 3, 1], [3, 3, 1, 3, 2, 1, 3, 2, 1], [3, 3, 1, 3, 3, 1, 2, 2, 1], [3, 3, 2, 1, 1, 1, 1, 2, 2], [3, 3, 2, 1, 1, 1, 2, 1, 2], [3, 3, 2, 1, 1, 1, 2, 2, 1], [3, 3, 2, 1, 1, 1, 2, 3, 3], [3, 3, 2, 1, 1, 1, 3, 2, 3], [3, 3, 2, 1, 1, 1, 3, 3, 2], [3, 3, 2, 1, 2, 2, 1, 1, 1], [3, 3, 2, 2, 1, 2, 1, 1, 1], [3, 3, 2, 2, 2, 1, 1, 1, 1], [3, 3, 2, 2, 3, 3, 1, 1, 1], [3, 3, 2, 3, 2, 3, 1, 1, 1], [3, 3, 2, 3, 3, 2, 1, 1, 1], [3, 3, 3, 1, 1, 1, 2, 2, 3], [3, 3, 3, 1, 1, 1, 2, 3, 2], [3, 3, 3, 1, 1, 1, 3, 2, 2], [3, 3, 3, 2, 2, 3, 1, 1, 1], [3, 3, 3, 2, 3, 2, 1, 1, 1], [3, 3, 3, 3, 2, 2, 1, 1, 1], [1, 1, 2, 1, 1, 2, 2, 3, 2], [1, 1, 2, 1, 1, 2, 3, 2, 2], [1, 1, 2, 1, 1, 3, 2, 2, 2], [1, 1, 2, 1, 2, 1, 2, 2, 3], [1, 1, 2, 1, 2, 1, 2, 3, 2], [1, 1, 2, 1, 2, 2, 2, 1, 3], [1, 1, 2, 1, 2, 2, 2, 3, 1], [1, 1, 2, 1, 2, 2, 3, 1, 2], [1, 1, 2, 1, 2, 3, 2, 1, 2], [1, 1, 2, 1, 2, 3, 2, 2, 1], [1, 1, 2, 1, 2, 3, 2, 3, 3], [1, 1, 2, 1, 3, 1, 2, 2, 2], [1, 1, 2, 1, 3, 2, 2, 1, 2], [1, 1, 2, 1, 3, 2, 3, 3, 2], [1, 1, 2, 2, 1, 2, 1, 3, 2], [1, 1, 2, 2, 2, 1, 2, 1, 3], [1, 1, 2, 2, 2, 1, 2, 3, 1], [1, 1, 2, 2, 2, 2, 1, 1, 3], [1, 1, 2, 2, 2, 2, 1, 3, 1], [1, 1, 2, 2, 2, 2, 3, 1, 1], [1, 1, 2, 2, 2, 3, 2, 1, 1], [1, 1, 2, 2, 3, 2, 1, 1, 2], [1, 1, 2, 3, 1, 1, 2, 2, 2], [1, 1, 2, 3, 1, 2, 1, 2, 2], [1, 1, 2, 3, 1, 2, 3, 3, 2], [1, 1, 2, 3, 2, 1, 2, 1, 2], [1, 1, 2, 3, 2, 1, 2, 2, 1], [1, 1, 2, 3, 2, 1, 2, 3, 3], [1, 1, 2, 3, 2, 2, 1, 1, 2], [1, 1, 2, 3, 2, 2, 2, 1, 1], [1, 1, 2, 3, 2, 3, 2, 1, 3], [1, 1, 2, 3, 2, 3, 2, 3, 1], [1, 1, 2, 3, 3, 2, 1, 3, 2], [1, 1, 2, 3, 3, 2, 3, 1, 2], [1, 1, 3, 1, 1, 2, 2, 2, 2], [1, 1, 3, 1, 2, 1, 2, 2, 2], [1, 1, 3, 1, 3, 3, 2, 2, 2], [1, 1, 3, 2, 1, 1, 2, 2, 2], [1, 1, 3, 2, 2, 2, 1, 1, 2], [1, 1, 3, 2, 2, 2, 1, 2, 1], [1, 1, 3, 2, 2, 2, 1, 3, 3], [1, 1, 3, 2, 2, 2, 2, 1, 1], [1, 1, 3, 2, 2, 2, 3, 1, 3], [1, 1, 3, 2, 2, 2, 3, 3, 1], [1, 1, 3, 3, 1, 3, 2, 2, 2], [1, 1, 3, 3, 3, 1, 2, 2, 2], [1, 2, 1, 1, 1, 3, 2, 2, 2], [1, 2, 1, 1, 2, 1, 2, 2, 3], [1, 2, 1, 1, 2, 1, 3, 2, 2], [1, 2, 1, 1, 2, 2, 3, 2, 1], [1, 2, 1, 1, 2, 3, 2, 2, 1], [1, 2, 1, 1, 2, 3, 3, 2, 3], [1, 2, 1, 1, 3, 1, 2, 2, 2], [1, 2, 1, 2, 2, 1, 1, 2, 3], [1, 2, 1, 2, 2, 2, 1, 1, 3], [1, 2, 1, 2, 2, 2, 1, 3, 1], [1, 2, 1, 2, 2, 2, 3, 1, 1], [1, 2, 1, 2, 2, 3, 1, 2, 1], [1, 2, 1, 3, 1, 1, 2, 2, 2], [1, 2, 1, 3, 2, 1, 1, 2, 2], [1, 2, 1, 3, 2, 1, 3, 2, 3], [1, 2, 1, 3, 2, 2, 1, 2, 1], [1, 2, 1, 3, 2, 3, 1, 2, 3], [1, 2, 1, 3, 2, 3, 3, 2, 1], [1, 2, 2, 1, 1, 2, 3, 1, 2], [1, 2, 2, 1, 2, 1, 2, 1, 3], [1, 2, 2, 1, 2, 1, 2, 3, 1], [1, 2, 2, 1, 2, 1, 3, 2, 1], [1, 2, 2, 1, 2, 3, 2, 1, 1], [1, 2, 2, 3, 1, 2, 1, 1, 2], [1, 2, 2, 3, 2, 1, 1, 2, 1], [1, 2, 2, 3, 2, 1, 2, 1, 1], [1, 2, 3, 1, 2, 1, 2, 2, 1], [1, 2, 3, 1, 2, 1, 3, 2, 3], [1, 2, 3, 1, 2, 3, 3, 2, 1], [1, 2, 3, 2, 2, 1, 1, 2, 1], [1, 2, 3, 3, 2, 1, 1, 2, 3], [1, 2, 3, 3, 2, 1, 3, 2, 1], [1, 2, 3, 3, 2, 3, 1, 2, 1], [1, 3, 1, 1, 1, 2, 2, 2, 2], [1, 3, 1, 1, 2, 1, 2, 2, 2], [1, 3, 1, 1, 3, 3, 2, 2, 2], [1, 3, 1, 2, 1, 1, 2, 2, 2], [1, 3, 1, 2, 2, 2, 1, 1, 2], [1, 3, 1, 2, 2, 2, 1, 2, 1], [1, 3, 1, 2, 2, 2, 1, 3, 3], [1, 3, 1, 2, 2, 2, 2, 1, 1], [1, 3, 1, 2, 2, 2, 3, 1, 3], [1, 3, 1, 2, 2, 2, 3, 3, 1], [1, 3, 1, 3, 1, 3, 2, 2, 2], [1, 3, 1, 3, 3, 1, 2, 2, 2], [1, 3, 2, 1, 1, 2, 2, 1, 2], [1, 3, 2, 1, 1, 2, 3, 3, 2], [1, 3, 2, 1, 2, 1, 2, 1, 2], [1, 3, 2, 1, 2, 1, 2, 2, 1], [1, 3, 2, 1, 2, 1, 2, 3, 3], [1, 3, 2, 1, 2, 2, 2, 1, 1], [1, 3, 2, 1, 2, 3, 2, 1, 3], [1, 3, 2, 1, 2, 3, 2, 3, 1], [1, 3, 2, 1, 3, 2, 3, 1, 2], [1, 3, 2, 2, 1, 2, 1, 1, 2], [1, 3, 2, 2, 2, 1, 2, 1, 1], [1, 3, 2, 3, 1, 2, 1, 3, 2], [1, 3, 2, 3, 1, 2, 3, 1, 2], [1, 3, 2, 3, 2, 1, 2, 1, 3], [1, 3, 2, 3, 2, 1, 2, 3, 1], [1, 3, 2, 3, 2, 3, 2, 1, 1], [1, 3, 2, 3, 3, 2, 1, 1, 2], [1, 3, 3, 1, 1, 3, 2, 2, 2], [1, 3, 3, 1, 3, 1, 2, 2, 2], [1, 3, 3, 2, 2, 2, 1, 1, 3], [1, 3, 3, 2, 2, 2, 1, 3, 1], [1, 3, 3, 2, 2, 2, 3, 1, 1], [1, 3, 3, 3, 1, 1, 2, 2, 2], [2, 1, 1, 1, 1, 3, 2, 2, 2], [2, 1, 1, 1, 2, 1, 2, 3, 2], [2, 1, 1, 1, 2, 1, 3, 2, 2], [2, 1, 1, 1, 2, 2, 1, 3, 2], [2, 1, 1, 1, 2, 2, 3, 1, 2], [2, 1, 1, 1, 2, 3, 1, 2, 2], [2, 1, 1, 1, 2, 3, 2, 1, 2], [2, 1, 1, 1, 2, 3, 3, 3, 2], [2, 1, 1, 1, 3, 1, 2, 2, 2], [2, 1, 1, 2, 1, 1, 2, 2, 3], [2, 1, 1, 2, 1, 1, 2, 3, 2], [2, 1, 1, 2, 1, 2, 2, 3, 1], [2, 1, 1, 2, 1, 3, 2, 2, 1], [2, 1, 1, 2, 1, 3, 2, 3, 3], [2, 1, 1, 2, 2, 1, 1, 3, 2], [2, 1, 1, 2, 2, 1, 2, 1, 3], [2, 1, 1, 2, 2, 1, 3, 1, 2], [2, 1, 1, 2, 2, 2, 1, 1, 3], [2, 1, 1, 2, 2, 2, 1, 3, 1], [2, 1, 1, 2, 2, 2, 3, 1, 1], [2, 1, 1, 2, 2, 3, 1, 1, 2], [2, 1, 1, 2, 2, 3, 2, 1, 1], [2, 1, 1, 2, 3, 1, 2, 1, 2], [2, 1, 1, 2, 3, 1, 2, 3, 3], [2, 1, 1, 2, 3, 2, 2, 1, 1], [2, 1, 1, 2, 3, 3, 2, 1, 3], [2, 1, 1, 2, 3, 3, 2, 3, 1], [2, 1, 1, 3, 1, 1, 2, 2, 2], [2, 1, 1, 3, 2, 1, 1, 2, 2], [2, 1, 1, 3, 2, 1, 2, 1, 2], [2, 1, 1, 3, 2, 1, 3, 3, 2], [2, 1, 1, 3, 2, 2, 1, 1, 2], [2, 1, 1, 3, 2, 3, 1, 3, 2], [2, 1, 1, 3, 2, 3, 3, 1, 2], [2, 1, 2, 1, 1, 2, 1, 3, 2], [2, 1, 2, 1, 2, 1, 1, 3, 2], [2, 1, 2, 1, 2, 1, 2, 1, 3], [2, 1, 2, 1, 2, 1, 2, 3, 1], [2, 1, 2, 1, 2, 1, 3, 1, 2], [2, 1, 2, 1, 2, 3, 1, 1, 2], [2, 1, 2, 1, 2, 3, 2, 1, 1], [2, 1, 2, 1, 3, 2, 1, 1, 2], [2, 1, 2, 2, 1, 1, 2, 3, 1], [2, 1, 2, 2, 3, 1, 2, 1, 1], [2, 1, 2, 3, 2, 1, 1, 1, 2], [2, 1, 2, 3, 2, 1, 2, 1, 1], [2, 1, 3, 1, 2, 1, 1, 2, 2], [2, 1, 3, 1, 2, 1, 2, 1, 2], [2, 1, 3, 1, 2, 1, 3, 3, 2], [2, 1, 3, 1, 2, 2, 1, 1, 2], [2, 1, 3, 1, 2, 3, 1, 3, 2], [2, 1, 3, 1, 2, 3, 3, 1, 2], [2, 1, 3, 2, 1, 1, 2, 2, 1], [2, 1, 3, 2, 1, 1, 2, 3, 3], [2, 1, 3, 2, 1, 3, 2, 3, 1], [2, 1, 3, 2, 2, 1, 1, 1, 2], [2, 1, 3, 2, 2, 1, 2, 1, 1], [2, 1, 3, 2, 3, 1, 2, 1, 3], [2, 1, 3, 2, 3, 1, 2, 3, 1], [2, 1, 3, 2, 3, 3, 2, 1, 1], [2, 1, 3, 3, 2, 1, 1, 3, 2], [2, 1, 3, 3, 2, 1, 3, 1, 2], [2, 1, 3, 3, 2, 3, 1, 1, 2], [2, 2, 1, 1, 2, 1, 1, 2, 3], [2, 2, 1, 1, 2, 1, 1, 3, 2], [2, 2, 1, 1, 2, 1, 3, 1, 2], [2, 2, 1, 1, 2, 3, 1, 1, 2], [2, 2, 1, 1, 2, 3, 1, 2, 1], [2, 2, 1, 2, 1, 1, 2, 1, 3], [2, 2, 1, 2, 1, 3, 2, 1, 1], [2, 2, 1, 3, 2, 1, 1, 1, 2], [2, 2, 2, 1, 1, 2, 1, 1, 3], [2, 2, 2, 1, 1, 2, 1, 3, 1], [2, 2, 2, 1, 1, 2, 3, 1, 1], [2, 2, 2, 1, 1, 3, 1, 1, 2], [2, 2, 2, 1, 1, 3, 1, 2, 1], [2, 2, 2, 1, 1, 3, 1, 3, 3], [2, 2, 2, 1, 1, 3, 2, 1, 1], [2, 2, 2, 1, 1, 3, 3, 1, 3], [2, 2, 2, 1, 1, 3, 3, 3, 1], [2, 2, 2, 1, 2, 1, 1, 1, 3], [2, 2, 2, 1, 2, 1, 1, 3, 1], [2, 2, 2, 1, 2, 1, 3, 1, 1], [2, 2, 2, 1, 3, 1, 1, 1, 2], [2, 2, 2, 1, 3, 1, 1, 2, 1], [2, 2, 2, 1, 3, 1, 1, 3, 3], [2, 2, 2, 1, 3, 1, 2, 1, 1], [2, 2, 2, 1, 3, 1, 3, 1, 3], [2, 2, 2, 1, 3, 1, 3, 3, 1], [2, 2, 2, 1, 3, 3, 1, 1, 3], [2, 2, 2, 1, 3, 3, 1, 3, 1], [2, 2, 2, 1, 3, 3, 3, 1, 1], [2, 2, 2, 2, 1, 1, 1, 1, 3], [2, 2, 2, 2, 1, 1, 1, 3, 1], [2, 2, 2, 2, 1, 1, 3, 1, 1], [2, 2, 2, 3, 1, 1, 1, 1, 2], [2, 2, 2, 3, 1, 1, 1, 2, 1], [2, 2, 2, 3, 1, 1, 1, 3, 3], [2, 2, 2, 3, 1, 1, 2, 1, 1], [2, 2, 2, 3, 1, 1, 3, 1, 3], [2, 2, 2, 3, 1, 1, 3, 3, 1], [2, 2, 2, 3, 1, 3, 1, 1, 3], [2, 2, 2, 3, 1, 3, 1, 3, 1], [2, 2, 2, 3, 1, 3, 3, 1, 1], [2, 2, 2, 3, 3, 1, 1, 1, 3], [2, 2, 2, 3, 3, 1, 1, 3, 1], [2, 2, 2, 3, 3, 1, 3, 1, 1], [2, 2, 3, 1, 2, 1, 1, 1, 2], [2, 2, 3, 1, 2, 1, 1, 2, 1], [2, 2, 3, 2, 1, 1, 2, 1, 1], [2, 3, 1, 1, 2, 1, 1, 2, 2], [2, 3, 1, 1, 2, 1, 2, 1, 2], [2, 3, 1, 1, 2, 1, 3, 3, 2], [2, 3, 1, 1, 2, 2, 1, 1, 2], [2, 3, 1, 1, 2, 3, 1, 3, 2], [2, 3, 1, 1, 2, 3, 3, 1, 2], [2, 3, 1, 2, 1, 1, 2, 1, 2], [2, 3, 1, 2, 1, 1, 2, 3, 3], [2, 3, 1, 2, 1, 2, 2, 1, 1], [2, 3, 1, 2, 1, 3, 2, 1, 3], [2, 3, 1, 2, 1, 3, 2, 3, 1], [2, 3, 1, 2, 2, 1, 1, 1, 2], [2, 3, 1, 2, 3, 1, 2, 1, 3], [2, 3, 1, 2, 3, 3, 2, 1, 1], [2, 3, 1, 3, 2, 1, 1, 3, 2], [2, 3, 1, 3, 2, 1, 3, 1, 2], [2, 3, 1, 3, 2, 3, 1, 1, 2], [2, 3, 2, 1, 1, 2, 1, 1, 2], [2, 3, 2, 1, 2, 1, 1, 1, 2], [2, 3, 2, 1, 2, 1, 2, 1, 1], [2, 3, 2, 2, 1, 1, 2, 1, 1], [2, 3, 3, 1, 2, 1, 1, 3, 2], [2, 3, 3, 1, 2, 1, 3, 1, 2], [2, 3, 3, 1, 2, 3, 1, 1, 2], [2, 3, 3, 2, 1, 1, 2, 1, 3], [2, 3, 3, 2, 1, 1, 2, 3, 1], [2, 3, 3, 2, 1, 3, 2, 1, 1], [2, 3, 3, 2, 3, 1, 2, 1, 1], [2, 3, 3, 3, 2, 1, 1, 1, 2], [3, 1, 1, 1, 1, 2, 2, 2, 2], [3, 1, 1, 1, 2, 1, 2, 2, 2], [3, 1, 1, 1, 3, 3, 2, 2, 2], [3, 1, 1, 2, 1, 1, 2, 2, 2], [3, 1, 1, 2, 2, 2, 1, 1, 2], [3, 1, 1, 2, 2, 2, 1, 2, 1], [3, 1, 1, 2, 2, 2, 1, 3, 3], [3, 1, 1, 2, 2, 2, 2, 1, 1], [3, 1, 1, 2, 2, 2, 3, 1, 3], [3, 1, 1, 2, 2, 2, 3, 3, 1], [3, 1, 1, 3, 1, 3, 2, 2, 2], [3, 1, 1, 3, 3, 1, 2, 2, 2], [3, 1, 2, 1, 1, 2, 1, 2, 2], [3, 1, 2, 1, 1, 2, 3, 3, 2], [3, 1, 2, 1, 2, 1, 2, 1, 2], [3, 1, 2, 1, 2, 1, 2, 2, 1], [3, 1, 2, 1, 2, 1, 2, 3, 3], [3, 1, 2, 1, 2, 2, 1, 1, 2], [3, 1, 2, 1, 2, 2, 2, 1, 1], [3, 1, 2, 1, 2, 3, 2, 1, 3], [3, 1, 2, 1, 2, 3, 2, 3, 1], [3, 1, 2, 1, 3, 2, 1, 3, 2], [3, 1, 2, 1, 3, 2, 3, 1, 2], [3, 1, 2, 2, 2, 1, 2, 1, 1], [3, 1, 2, 3, 1, 2, 1, 3, 2], [3, 1, 2, 3, 2, 1, 2, 1, 3], [3, 1, 2, 3, 2, 1, 2, 3, 1], [3, 1, 2, 3, 2, 3, 2, 1, 1], [3, 1, 2, 3, 3, 2, 1, 1, 2], [3, 1, 3, 1, 1, 3, 2, 2, 2], [3, 1, 3, 1, 3, 1, 2, 2, 2], [3, 1, 3, 2, 2, 2, 1, 1, 3], [3, 1, 3, 2, 2, 2, 1, 3, 1], [3, 1, 3, 2, 2, 2, 3, 1, 1], [3, 1, 3, 3, 1, 1, 2, 2, 2], [3, 2, 1, 1, 2, 1, 1, 2, 2], [3, 2, 1, 1, 2, 1, 3, 2, 3], [3, 2, 1, 1, 2, 2, 1, 2, 1], [3, 2, 1, 1, 2, 3, 1, 2, 3], [3, 2, 1, 1, 2, 3, 3, 2, 1], [3, 2, 1, 3, 2, 1, 1, 2, 3], [3, 2, 1, 3, 2, 3, 1, 2, 1], [3, 2, 2, 1, 1, 2, 1, 1, 2], [3, 2, 2, 1, 2, 1, 1, 2, 1], [3, 2, 2, 1, 2, 1, 2, 1, 1], [3, 2, 3, 1, 2, 1, 1, 2, 3], [3, 2, 3, 1, 2, 1, 3, 2, 1], [3, 2, 3, 1, 2, 3, 1, 2, 1], [3, 2, 3, 3, 2, 1, 1, 2, 1], [3, 3, 1, 1, 1, 3, 2, 2, 2], [3, 3, 1, 1, 3, 1, 2, 2, 2], [3, 3, 1, 2, 2, 2, 1, 1, 3], [3, 3, 1, 2, 2, 2, 1, 3, 1], [3, 3, 1, 2, 2, 2, 3, 1, 1], [3, 3, 1, 3, 1, 1, 2, 2, 2], [3, 3, 2, 1, 1, 2, 1, 3, 2], [3, 3, 2, 1, 1, 2, 3, 1, 2], [3, 3, 2, 1, 2, 1, 2, 1, 3], [3, 3, 2, 1, 2, 1, 2, 3, 1], [3, 3, 2, 1, 2, 3, 2, 1, 1], [3, 3, 2, 1, 3, 2, 1, 1, 2], [3, 3, 2, 3, 1, 2, 1, 1, 2], [3, 3, 2, 3, 2, 1, 2, 1, 1], [1, 1, 2, 2, 1, 1, 1, 2, 2], [1, 1, 2, 2, 2, 1, 1, 1, 2], [1, 1, 2, 2, 2, 1, 1, 2, 1], [1, 2, 1, 1, 1, 2, 2, 1, 2], [1, 2, 1, 1, 2, 1, 2, 1, 2], [1, 2, 1, 1, 2, 2, 2, 1, 1], [1, 2, 1, 2, 1, 1, 2, 1, 2], [1, 2, 1, 2, 2, 1, 1, 1, 2], [1, 2, 2, 2, 1, 1, 1, 1, 2], [2, 1, 1, 1, 1, 2, 2, 2, 1], [2, 1, 1, 1, 2, 2, 1, 2, 1], [2, 1, 1, 1, 2, 2, 2, 1, 1], [2, 1, 2, 1, 1, 2, 1, 2, 1], [2, 1, 2, 1, 2, 1, 1, 2, 1], [2, 1, 2, 2, 1, 1, 1, 2, 1], [2, 2, 1, 1, 1, 2, 2, 1, 1]]\n",
      "[1, 1, 1, 1, 1, 1, 1, 1, 1, 1, 1, 1, 1, 1, 1, 1, 1, 1, 1, 1, 1, 1, 1, 1, 1, 1, 1, 1, 1, 1, 1, 1, 1, 1, 1, 1, 1, 1, 1, 1, 1, 1, 1, 1, 1, 1, 1, 1, 1, 1, 1, 1, 1, 1, 1, 1, 1, 1, 1, 1, 1, 1, 1, 1, 1, 1, 1, 1, 1, 1, 1, 1, 1, 1, 1, 1, 1, 1, 1, 1, 1, 1, 1, 1, 1, 1, 1, 1, 1, 1, 1, 1, 1, 1, 1, 1, 1, 1, 1, 1, 1, 1, 1, 1, 1, 1, 1, 1, 1, 1, 1, 1, 1, 1, 1, 1, 1, 1, 1, 1, 1, 1, 1, 1, 1, 1, 1, 1, 1, 1, 1, 1, 1, 1, 1, 1, 1, 1, 1, 1, 1, 1, 1, 1, 1, 1, 1, 1, 1, 1, 1, 1, 1, 1, 1, 1, 1, 1, 1, 1, 1, 1, 1, 1, 1, 1, 1, 1, 1, 1, 1, 1, 1, 1, 1, 1, 1, 1, 1, 1, 1, 1, 1, 1, 1, 1, 1, 1, 1, 1, 1, 1, 1, 1, 1, 1, 1, 1, 1, 1, 1, 1, 1, 1, 1, 1, 1, 1, 1, 1, 1, 1, 1, 1, 1, 1, 1, 1, 1, 1, 1, 1, 1, 1, 1, 1, 1, 1, 1, 1, 1, 1, 1, 1, 1, 1, 1, 1, 1, 1, 1, 1, 1, 1, 1, 1, 1, 1, 1, 1, 1, 1, 1, 1, 1, 1, 1, 1, 1, 1, 1, 1, 1, 1, 1, 1, 1, 1, 1, 1, 1, 1, 1, 1, 1, 1, 1, 1, 1, 1, 1, 1, 1, 1, 1, 1, 1, 1, 1, 1, 1, 1, 1, 1, 1, 1, 1, 1, 1, 1, 1, 1, 1, 1, 1, 1, 1, 1, 1, 1, 1, 1, 1, 1, 1, 1, 1, 1, 1, 1, 1, 1, 1, 1, 1, 1, 1, 1, 1, 1, 1, 1, 1, 1, 1, 1, 1, 1, 1, 1, 1, 1, 1, 1, 1, 1, 1, 1, 1, 1, 1, 1, 1, 1, 1, 1, 1, 1, 1, 1, 1, 1, 1, 1, 1, 1, 1, 1, 1, 1, 1, 1, 1, 1, 1, 1, 1, 1, 1, 1, 1, 1, 1, 1, 1, 1, 1, 1, 1, 1, 1, 1, 1, 1, 1, 1, 1, 1, 1, 1, 1, 1, 1, 1, 1, 1, 1, 1, 1, 1, 1, 1, 1, 1, 1, 1, 1, 1, 1, 1, 1, 1, 1, 1, 1, 1, 1, 1, 1, 1, 1, 1, 1, 1, 1, 1, 1, 1, 1, 1, 1, 1, 1, 1, 1, 1, 1, 1, 1, 1, 1, 1, 1, 1, 1, 1, 1, 1, 1, 1, 1, 1, 1, 1, 1, 1, 1, 1, 1, 1, 1, 1, 1, 1, 1, 1, 1, 1, 1, 1, 1, 1, 1, 1, 1, 1, 1, 1, 1, 1, 1, 1, 1, 1, 1, 1, 1, 1, 1, 1, 1, 1, 1, 1, 1, 1, 1, 1, 1, 1, 1, 1, 1, 1, 1, 1, 1, 1, 1, 1, 1, 1, 1, 1, 1, 1, 1, 1, 1, 1, 1, 1, 1, 1, 1, 1, 1, 1, 1, 1, 1, 1, 1, 1, 1, 1, 1, 1, 1, 1, 1, 1, 1, 1, 1, 1, 1, 1, 1, 1, 1, 1, 1, 1, 1, 1, 1, 1, 1, 1, 1, 1, 1, 1, 1, 1, 1, 1, 1, 1, 1, 1, 1, 1, 1, 1, 1, 1, 1, 1, 1, 1, 1, 1, 1, 1, 1, 1, 1, 1, 1, 1, 1, 1, 1, 1, 1, 1, 1, 1, 1, 1, 1, 1, 1, 1, 1, 1, 1, 1, 1, 1, 1, 1, 1, 1, 0, 0, 0, 0, 0, 0, 0, 0, 0, 0, 0, 0, 0, 0, 0, 0, 0, 0, 0, 0, 0, 0, 0, 0, 0, 0, 0, 0, 0, 0, 0, 0, 0, 0, 0, 0, 0, 0, 0, 0, 0, 0, 0, 0, 0, 0, 0, 0, 0, 0, 0, 0, 0, 0, 0, 0, 0, 0, 0, 0, 0, 0, 0, 0, 0, 0, 0, 0, 0, 0, 0, 0, 0, 0, 0, 0, 0, 0, 0, 0, 0, 0, 0, 0, 0, 0, 0, 0, 0, 0, 0, 0, 0, 0, 0, 0, 0, 0, 0, 0, 0, 0, 0, 0, 0, 0, 0, 0, 0, 0, 0, 0, 0, 0, 0, 0, 0, 0, 0, 0, 0, 0, 0, 0, 0, 0, 0, 0, 0, 0, 0, 0, 0, 0, 0, 0, 0, 0, 0, 0, 0, 0, 0, 0, 0, 0, 0, 0, 0, 0, 0, 0, 0, 0, 0, 0, 0, 0, 0, 0, 0, 0, 0, 0, 0, 0, 0, 0, 0, 0, 0, 0, 0, 0, 0, 0, 0, 0, 0, 0, 0, 0, 0, 0, 0, 0, 0, 0, 0, 0, 0, 0, 0, 0, 0, 0, 0, 0, 0, 0, 0, 0, 0, 0, 0, 0, 0, 0, 0, 0, 0, 0, 0, 0, 0, 0, 0, 0, 0, 0, 0, 0, 0, 0, 0, 0, 0, 0, 0, 0, 0, 0, 0, 0, 0, 0, 0, 0, 0, 0, 0, 0, 0, 0, 0, 0, 0, 0, 0, 0, 0, 0, 0, 0, 0, 0, 0, 0, 0, 0, 0, 0, 0, 0, 0, 0, 0, 0, 0, 0, 0, 0, 0, 0, 0, 0, 0, 0, 0, 0, 0, 0, 0, 0, 0, 0, 0, 0, 0, 0, 0, 0, 0, 0, 0, 0, 0, 0, 0, 0, 0, 0, 0, 0, 0, 0, 0, 0, 0, 0, 0, 0, 0, 0, 0, 0, 0, 0, 0, 0, 0, 0, 0, 0, 0, 0, 0, 0, 0, 0, 0, 0]\n"
     ]
    }
   ],
   "source": [
    "x=data.values[:,0:9]\n",
    "y=data.values[:,9:10]\n",
    "y1=[0]*len(y)\n",
    "x1=[]\n",
    "for i in x:\n",
    "    x2=[]\n",
    "    for j in i:\n",
    "        if(j=='x'):\n",
    "            x2.append(1)\n",
    "        elif(j=='o'):\n",
    "            x2.append(2)\n",
    "        else:\n",
    "            x2.append(3)\n",
    "    x1.append(x2[:])\n",
    "print(x1)\n",
    "for i in range(len(y)):\n",
    "    if(y[i][0]=='positive'):\n",
    "        y1[i]=1\n",
    "print(y1)"
   ]
  },
  {
   "cell_type": "code",
   "execution_count": 277,
   "metadata": {
    "collapsed": true
   },
   "outputs": [],
   "source": [
    "X_train, X_test, y_train, y_test = train_test_split(x1,y1, test_size = 0.3, random_state = 100)"
   ]
  },
  {
   "cell_type": "code",
   "execution_count": 278,
   "metadata": {},
   "outputs": [
    {
     "data": {
      "text/plain": [
       "DecisionTreeClassifier(class_weight=None, criterion='entropy', max_depth=3,\n",
       "            max_features=None, max_leaf_nodes=None,\n",
       "            min_impurity_split=1e-07, min_samples_leaf=5,\n",
       "            min_samples_split=2, min_weight_fraction_leaf=0.0,\n",
       "            presort=False, random_state=100, splitter='best')"
      ]
     },
     "execution_count": 278,
     "metadata": {},
     "output_type": "execute_result"
    }
   ],
   "source": [
    "clf_entropy = DecisionTreeClassifier(criterion = \"entropy\", random_state = 100,\n",
    " max_depth=3, min_samples_leaf=5)\n",
    "clf_entropy.fit(X_train, y_train)"
   ]
  },
  {
   "cell_type": "code",
   "execution_count": 279,
   "metadata": {},
   "outputs": [
    {
     "data": {
      "text/plain": [
       "array([1, 1, 1, 0, 1, 1, 0, 1, 1, 0, 1, 0, 0, 0, 1, 1, 1, 1, 1, 1, 1, 0, 0,\n",
       "       1, 0, 1, 1, 1, 1, 1, 1, 1, 0, 1, 1, 1, 1, 1, 1, 1, 1, 1, 1, 1, 1, 1,\n",
       "       1, 1, 1, 0, 1, 1, 0, 1, 1, 1, 0, 1, 1, 1, 1, 1, 1, 1, 0, 1, 1, 1, 1,\n",
       "       1, 1, 1, 1, 1, 1, 1, 1, 1, 1, 0, 0, 1, 1, 1, 1, 1, 0, 1, 1, 1, 1, 1,\n",
       "       0, 1, 1, 1, 1, 1, 0, 1, 0, 1, 1, 1, 1, 0, 1, 1, 0, 0, 1, 1, 1, 1, 0,\n",
       "       1, 1, 1, 1, 1, 0, 1, 0, 1, 1, 0, 0, 1, 0, 1, 1, 1, 1, 0, 0, 0, 0, 1,\n",
       "       0, 1, 0, 1, 1, 1, 1, 1, 1, 0, 1, 0, 1, 1, 1, 1, 1, 1, 1, 1, 1, 1, 1,\n",
       "       1, 1, 1, 1, 1, 0, 1, 1, 1, 1, 0, 1, 0, 1, 0, 0, 1, 1, 1, 1, 0, 1, 1,\n",
       "       1, 0, 1, 1, 1, 1, 1, 1, 1, 0, 0, 1, 1, 1, 1, 1, 0, 0, 1, 1, 0, 0, 0,\n",
       "       1, 1, 1, 0, 0, 1, 0, 0, 1, 1, 1, 1, 1, 1, 1, 1, 1, 0, 1, 0, 1, 1, 0,\n",
       "       1, 0, 1, 1, 1, 1, 1, 1, 1, 0, 1, 1, 0, 1, 1, 1, 1, 1, 1, 1, 1, 1, 1,\n",
       "       1, 1, 1, 1, 1, 1, 1, 1, 1, 0, 0, 1, 1, 1, 0, 1, 0, 1, 1, 1, 1, 1, 0,\n",
       "       0, 1, 1, 0, 1, 1, 0, 1, 1, 1, 1, 1])"
      ]
     },
     "execution_count": 279,
     "metadata": {},
     "output_type": "execute_result"
    }
   ],
   "source": [
    "y_pred_en = clf_entropy.predict(X_test)\n",
    "y_pred_en"
   ]
  },
  {
   "cell_type": "code",
   "execution_count": 280,
   "metadata": {},
   "outputs": [
    {
     "name": "stdout",
     "output_type": "stream",
     "text": [
      "Accuracy is  75.0\n"
     ]
    }
   ],
   "source": [
    "print(\"Accuracy is \", accuracy_score(y_test,y_pred_en)*100)"
   ]
  },
  {
   "cell_type": "code",
   "execution_count": null,
   "metadata": {
    "collapsed": true
   },
   "outputs": [],
   "source": []
  }
 ],
 "metadata": {
  "kernelspec": {
   "display_name": "Python 3",
   "language": "python",
   "name": "python3"
  },
  "language_info": {
   "codemirror_mode": {
    "name": "ipython",
    "version": 3
   },
   "file_extension": ".py",
   "mimetype": "text/x-python",
   "name": "python",
   "nbconvert_exporter": "python",
   "pygments_lexer": "ipython3",
   "version": "3.6.1"
  }
 },
 "nbformat": 4,
 "nbformat_minor": 2
}
